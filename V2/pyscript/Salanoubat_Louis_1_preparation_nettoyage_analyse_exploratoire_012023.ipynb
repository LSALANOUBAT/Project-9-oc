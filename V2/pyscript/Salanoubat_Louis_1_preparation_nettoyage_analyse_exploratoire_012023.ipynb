{
 "cells": [
  {
   "attachments": {},
   "cell_type": "markdown",
   "metadata": {},
   "source": [
    "# 1. Importation des librairies\n",
    "--------------------------"
   ]
  },
  {
   "cell_type": "code",
   "execution_count": 4550,
   "metadata": {},
   "outputs": [],
   "source": [
    "from math import sin, cos, sqrt, atan2,radians\n",
    "import pandas as pd\n",
    "import numpy as np"
   ]
  },
  {
   "attachments": {},
   "cell_type": "markdown",
   "metadata": {},
   "source": [
    "# 2. Définition du chemin de lecture et lecture des fichiers\n",
    "---------------------------------------------------"
   ]
  },
  {
   "cell_type": "code",
   "execution_count": 4551,
   "metadata": {},
   "outputs": [],
   "source": [
    "PATH = '~/project9/V2/dataset/'\n",
    "\n",
    "coordinates_df = pd.read_csv(PATH + 'countries_codes_and_coordinates.csv', sep=',', skipinitialspace=True)\n",
    "food_availability_df = pd.read_csv(PATH + 'dispo_alim.csv')\n",
    "eco_df = pd.read_csv(PATH + 'eco_datas.csv')\n",
    "fao_codes_df = pd.read_csv(PATH + 'fao_code_def.csv')\n",
    "languages_df = pd.read_csv(PATH + 'languages.csv')\n",
    "political_stability_df = pd.read_csv(PATH + 'political_stability.csv')\n",
    "population_df = pd.read_csv(PATH + 'population.csv')\n"
   ]
  },
  {
   "attachments": {},
   "cell_type": "markdown",
   "metadata": {},
   "source": [
    "Dans les différents tableau tableau nous avons decidé de garder `les variables suivantes` : <br>\n",
    "<li>Stabilité politique</li>\n",
    "<li>PIB par habitant (composite de la table PIB et population)</li>\n",
    "<li>Taux d'imporation (importation / Disponibilité intérieur)</li>\n",
    "<li>Production</li>\n",
    "<li>Langue la plus parlé dans le pays</li>\n",
    "<li>Distance de la France au pays cible</li>"
   ]
  },
  {
   "attachments": {},
   "cell_type": "markdown",
   "metadata": {},
   "source": [
    "# 3. Mise des différentes tables aux mêmes normes\n",
    "-------------------------------------------------------------\n",
    "## 3.1 Coordonnées GPS\n",
    "--------------------------"
   ]
  },
  {
   "cell_type": "code",
   "execution_count": 4552,
   "metadata": {},
   "outputs": [
    {
     "data": {
      "text/html": [
       "<div>\n",
       "<style scoped>\n",
       "    .dataframe tbody tr th:only-of-type {\n",
       "        vertical-align: middle;\n",
       "    }\n",
       "\n",
       "    .dataframe tbody tr th {\n",
       "        vertical-align: top;\n",
       "    }\n",
       "\n",
       "    .dataframe thead th {\n",
       "        text-align: right;\n",
       "    }\n",
       "</style>\n",
       "<table border=\"1\" class=\"dataframe\">\n",
       "  <thead>\n",
       "    <tr style=\"text-align: right;\">\n",
       "      <th></th>\n",
       "      <th>Country</th>\n",
       "      <th>Alpha-2 code</th>\n",
       "      <th>Alpha-3 code</th>\n",
       "      <th>Numeric code</th>\n",
       "      <th>Latitude (average)</th>\n",
       "      <th>Longitude (average)</th>\n",
       "    </tr>\n",
       "  </thead>\n",
       "  <tbody>\n",
       "    <tr>\n",
       "      <th>0</th>\n",
       "      <td>Afghanistan</td>\n",
       "      <td>AF</td>\n",
       "      <td>AFG</td>\n",
       "      <td>4</td>\n",
       "      <td>33.0000</td>\n",
       "      <td>65.0</td>\n",
       "    </tr>\n",
       "    <tr>\n",
       "      <th>1</th>\n",
       "      <td>Albania</td>\n",
       "      <td>AL</td>\n",
       "      <td>ALB</td>\n",
       "      <td>8</td>\n",
       "      <td>41.0000</td>\n",
       "      <td>20.0</td>\n",
       "    </tr>\n",
       "    <tr>\n",
       "      <th>2</th>\n",
       "      <td>Algeria</td>\n",
       "      <td>DZ</td>\n",
       "      <td>DZA</td>\n",
       "      <td>12</td>\n",
       "      <td>28.0000</td>\n",
       "      <td>3.0</td>\n",
       "    </tr>\n",
       "    <tr>\n",
       "      <th>3</th>\n",
       "      <td>American Samoa</td>\n",
       "      <td>AS</td>\n",
       "      <td>ASM</td>\n",
       "      <td>16</td>\n",
       "      <td>-14.3333</td>\n",
       "      <td>-170.0</td>\n",
       "    </tr>\n",
       "    <tr>\n",
       "      <th>4</th>\n",
       "      <td>Andorra</td>\n",
       "      <td>AD</td>\n",
       "      <td>AND</td>\n",
       "      <td>20</td>\n",
       "      <td>42.5000</td>\n",
       "      <td>1.6</td>\n",
       "    </tr>\n",
       "  </tbody>\n",
       "</table>\n",
       "</div>"
      ],
      "text/plain": [
       "          Country Alpha-2 code Alpha-3 code  Numeric code  Latitude (average)  \\\n",
       "0     Afghanistan           AF          AFG             4             33.0000   \n",
       "1         Albania           AL          ALB             8             41.0000   \n",
       "2         Algeria           DZ          DZA            12             28.0000   \n",
       "3  American Samoa           AS          ASM            16            -14.3333   \n",
       "4         Andorra           AD          AND            20             42.5000   \n",
       "\n",
       "   Longitude (average)  \n",
       "0                 65.0  \n",
       "1                 20.0  \n",
       "2                  3.0  \n",
       "3               -170.0  \n",
       "4                  1.6  "
      ]
     },
     "execution_count": 4552,
     "metadata": {},
     "output_type": "execute_result"
    }
   ],
   "source": [
    "coordinates_df.head()"
   ]
  },
  {
   "cell_type": "code",
   "execution_count": 4553,
   "metadata": {},
   "outputs": [
    {
     "name": "stdout",
     "output_type": "stream",
     "text": [
      "<class 'pandas.core.frame.DataFrame'>\n",
      "RangeIndex: 244 entries, 0 to 243\n",
      "Data columns (total 6 columns):\n",
      " #   Column               Non-Null Count  Dtype  \n",
      "---  ------               --------------  -----  \n",
      " 0   Country              244 non-null    object \n",
      " 1   Alpha-2 code         243 non-null    object \n",
      " 2   Alpha-3 code         244 non-null    object \n",
      " 3   Numeric code         244 non-null    int64  \n",
      " 4   Latitude (average)   244 non-null    float64\n",
      " 5   Longitude (average)  244 non-null    float64\n",
      "dtypes: float64(2), int64(1), object(3)\n",
      "memory usage: 11.6+ KB\n"
     ]
    }
   ],
   "source": [
    "coordinates_df.info()"
   ]
  },
  {
   "attachments": {},
   "cell_type": "markdown",
   "metadata": {},
   "source": [
    "Nous allons `traduire` le nom des pays de `la même manière que la FAO`."
   ]
  },
  {
   "cell_type": "code",
   "execution_count": 4554,
   "metadata": {},
   "outputs": [
    {
     "data": {
      "text/html": [
       "<div>\n",
       "<style scoped>\n",
       "    .dataframe tbody tr th:only-of-type {\n",
       "        vertical-align: middle;\n",
       "    }\n",
       "\n",
       "    .dataframe tbody tr th {\n",
       "        vertical-align: top;\n",
       "    }\n",
       "\n",
       "    .dataframe thead th {\n",
       "        text-align: right;\n",
       "    }\n",
       "</style>\n",
       "<table border=\"1\" class=\"dataframe\">\n",
       "  <thead>\n",
       "    <tr style=\"text-align: right;\">\n",
       "      <th></th>\n",
       "      <th>Code Pays</th>\n",
       "      <th>Pays</th>\n",
       "      <th>Code M49</th>\n",
       "      <th>Code ISO2</th>\n",
       "      <th>Code ISO3</th>\n",
       "      <th>Année de début</th>\n",
       "      <th>Año de inicio</th>\n",
       "    </tr>\n",
       "  </thead>\n",
       "  <tbody>\n",
       "    <tr>\n",
       "      <th>0</th>\n",
       "      <td>2</td>\n",
       "      <td>Afghanistan</td>\n",
       "      <td>4.0</td>\n",
       "      <td>AF</td>\n",
       "      <td>AFG</td>\n",
       "      <td>NaN</td>\n",
       "      <td>NaN</td>\n",
       "    </tr>\n",
       "    <tr>\n",
       "      <th>1</th>\n",
       "      <td>5100</td>\n",
       "      <td>Afrique</td>\n",
       "      <td>2.0</td>\n",
       "      <td>F5100</td>\n",
       "      <td>X06</td>\n",
       "      <td>NaN</td>\n",
       "      <td>NaN</td>\n",
       "    </tr>\n",
       "    <tr>\n",
       "      <th>2</th>\n",
       "      <td>5104</td>\n",
       "      <td>Afrique australe</td>\n",
       "      <td>18.0</td>\n",
       "      <td>F5104</td>\n",
       "      <td>F5104</td>\n",
       "      <td>NaN</td>\n",
       "      <td>NaN</td>\n",
       "    </tr>\n",
       "    <tr>\n",
       "      <th>3</th>\n",
       "      <td>5102</td>\n",
       "      <td>Afrique centrale</td>\n",
       "      <td>17.0</td>\n",
       "      <td>F5102</td>\n",
       "      <td>F5102</td>\n",
       "      <td>NaN</td>\n",
       "      <td>NaN</td>\n",
       "    </tr>\n",
       "    <tr>\n",
       "      <th>4</th>\n",
       "      <td>429</td>\n",
       "      <td>Afrique du Nord (Soudan Excl)</td>\n",
       "      <td>746.0</td>\n",
       "      <td>F429</td>\n",
       "      <td>F429</td>\n",
       "      <td>NaN</td>\n",
       "      <td>NaN</td>\n",
       "    </tr>\n",
       "  </tbody>\n",
       "</table>\n",
       "</div>"
      ],
      "text/plain": [
       "   Code Pays                           Pays  Code M49 Code ISO2 Code ISO3  \\\n",
       "0          2                    Afghanistan       4.0        AF       AFG   \n",
       "1       5100                        Afrique       2.0     F5100       X06   \n",
       "2       5104               Afrique australe      18.0     F5104     F5104   \n",
       "3       5102               Afrique centrale      17.0     F5102     F5102   \n",
       "4        429  Afrique du Nord (Soudan Excl)     746.0      F429      F429   \n",
       "\n",
       "   Année de début  Año de inicio  \n",
       "0             NaN            NaN  \n",
       "1             NaN            NaN  \n",
       "2             NaN            NaN  \n",
       "3             NaN            NaN  \n",
       "4             NaN            NaN  "
      ]
     },
     "execution_count": 4554,
     "metadata": {},
     "output_type": "execute_result"
    }
   ],
   "source": [
    "fao_codes_df.head()"
   ]
  },
  {
   "cell_type": "code",
   "execution_count": 4555,
   "metadata": {},
   "outputs": [
    {
     "name": "stdout",
     "output_type": "stream",
     "text": [
      "<class 'pandas.core.frame.DataFrame'>\n",
      "RangeIndex: 341 entries, 0 to 340\n",
      "Data columns (total 7 columns):\n",
      " #   Column          Non-Null Count  Dtype  \n",
      "---  ------          --------------  -----  \n",
      " 0   Code Pays       341 non-null    int64  \n",
      " 1   Pays            341 non-null    object \n",
      " 2   Code M49        341 non-null    float64\n",
      " 3   Code ISO2       340 non-null    object \n",
      " 4   Code ISO3       341 non-null    object \n",
      " 5   Année de début  39 non-null     float64\n",
      " 6   Año de inicio   9 non-null      float64\n",
      "dtypes: float64(3), int64(1), object(3)\n",
      "memory usage: 18.8+ KB\n"
     ]
    }
   ],
   "source": [
    "fao_codes_df.info()"
   ]
  },
  {
   "attachments": {},
   "cell_type": "markdown",
   "metadata": {},
   "source": [
    "On s'aperçoit que le nom de la colonnes ISO3 n'est pas les même entre les différent tableau. Changeons-les."
   ]
  },
  {
   "cell_type": "code",
   "execution_count": 4556,
   "metadata": {},
   "outputs": [
    {
     "data": {
      "text/html": [
       "<div>\n",
       "<style scoped>\n",
       "    .dataframe tbody tr th:only-of-type {\n",
       "        vertical-align: middle;\n",
       "    }\n",
       "\n",
       "    .dataframe tbody tr th {\n",
       "        vertical-align: top;\n",
       "    }\n",
       "\n",
       "    .dataframe thead th {\n",
       "        text-align: right;\n",
       "    }\n",
       "</style>\n",
       "<table border=\"1\" class=\"dataframe\">\n",
       "  <thead>\n",
       "    <tr style=\"text-align: right;\">\n",
       "      <th></th>\n",
       "      <th>Country</th>\n",
       "      <th>Alpha-2 code</th>\n",
       "      <th>Code ISO3</th>\n",
       "      <th>Numeric code</th>\n",
       "      <th>Latitude (average)</th>\n",
       "      <th>Longitude (average)</th>\n",
       "    </tr>\n",
       "  </thead>\n",
       "  <tbody>\n",
       "    <tr>\n",
       "      <th>0</th>\n",
       "      <td>Afghanistan</td>\n",
       "      <td>AF</td>\n",
       "      <td>AFG</td>\n",
       "      <td>4</td>\n",
       "      <td>33.0000</td>\n",
       "      <td>65.0</td>\n",
       "    </tr>\n",
       "    <tr>\n",
       "      <th>1</th>\n",
       "      <td>Albania</td>\n",
       "      <td>AL</td>\n",
       "      <td>ALB</td>\n",
       "      <td>8</td>\n",
       "      <td>41.0000</td>\n",
       "      <td>20.0</td>\n",
       "    </tr>\n",
       "    <tr>\n",
       "      <th>2</th>\n",
       "      <td>Algeria</td>\n",
       "      <td>DZ</td>\n",
       "      <td>DZA</td>\n",
       "      <td>12</td>\n",
       "      <td>28.0000</td>\n",
       "      <td>3.0</td>\n",
       "    </tr>\n",
       "    <tr>\n",
       "      <th>3</th>\n",
       "      <td>American Samoa</td>\n",
       "      <td>AS</td>\n",
       "      <td>ASM</td>\n",
       "      <td>16</td>\n",
       "      <td>-14.3333</td>\n",
       "      <td>-170.0</td>\n",
       "    </tr>\n",
       "    <tr>\n",
       "      <th>4</th>\n",
       "      <td>Andorra</td>\n",
       "      <td>AD</td>\n",
       "      <td>AND</td>\n",
       "      <td>20</td>\n",
       "      <td>42.5000</td>\n",
       "      <td>1.6</td>\n",
       "    </tr>\n",
       "  </tbody>\n",
       "</table>\n",
       "</div>"
      ],
      "text/plain": [
       "          Country Alpha-2 code Code ISO3  Numeric code  Latitude (average)  \\\n",
       "0     Afghanistan           AF       AFG             4             33.0000   \n",
       "1         Albania           AL       ALB             8             41.0000   \n",
       "2         Algeria           DZ       DZA            12             28.0000   \n",
       "3  American Samoa           AS       ASM            16            -14.3333   \n",
       "4         Andorra           AD       AND            20             42.5000   \n",
       "\n",
       "   Longitude (average)  \n",
       "0                 65.0  \n",
       "1                 20.0  \n",
       "2                  3.0  \n",
       "3               -170.0  \n",
       "4                  1.6  "
      ]
     },
     "execution_count": 4556,
     "metadata": {},
     "output_type": "execute_result"
    }
   ],
   "source": [
    "features = coordinates_df.columns\n",
    "coordinates_df = coordinates_df.rename(columns={features[2] : 'Code ISO3'})\n",
    "features = coordinates_df.columns\n",
    "coordinates_df.head()"
   ]
  },
  {
   "attachments": {},
   "cell_type": "markdown",
   "metadata": {},
   "source": [
    "Nous pouvons maintenant `traduire` le nom des pays."
   ]
  },
  {
   "cell_type": "code",
   "execution_count": 4557,
   "metadata": {},
   "outputs": [
    {
     "data": {
      "text/html": [
       "<div>\n",
       "<style scoped>\n",
       "    .dataframe tbody tr th:only-of-type {\n",
       "        vertical-align: middle;\n",
       "    }\n",
       "\n",
       "    .dataframe tbody tr th {\n",
       "        vertical-align: top;\n",
       "    }\n",
       "\n",
       "    .dataframe thead th {\n",
       "        text-align: right;\n",
       "    }\n",
       "</style>\n",
       "<table border=\"1\" class=\"dataframe\">\n",
       "  <thead>\n",
       "    <tr style=\"text-align: right;\">\n",
       "      <th></th>\n",
       "      <th>Pays</th>\n",
       "      <th>Code ISO3</th>\n",
       "      <th>Country</th>\n",
       "      <th>Alpha-2 code</th>\n",
       "      <th>Numeric code</th>\n",
       "      <th>Latitude (average)</th>\n",
       "      <th>Longitude (average)</th>\n",
       "    </tr>\n",
       "  </thead>\n",
       "  <tbody>\n",
       "    <tr>\n",
       "      <th>0</th>\n",
       "      <td>Afghanistan</td>\n",
       "      <td>AFG</td>\n",
       "      <td>Afghanistan</td>\n",
       "      <td>AF</td>\n",
       "      <td>4</td>\n",
       "      <td>33.0000</td>\n",
       "      <td>65.0</td>\n",
       "    </tr>\n",
       "    <tr>\n",
       "      <th>1</th>\n",
       "      <td>Albanie</td>\n",
       "      <td>ALB</td>\n",
       "      <td>Albania</td>\n",
       "      <td>AL</td>\n",
       "      <td>8</td>\n",
       "      <td>41.0000</td>\n",
       "      <td>20.0</td>\n",
       "    </tr>\n",
       "    <tr>\n",
       "      <th>2</th>\n",
       "      <td>Algérie</td>\n",
       "      <td>DZA</td>\n",
       "      <td>Algeria</td>\n",
       "      <td>DZ</td>\n",
       "      <td>12</td>\n",
       "      <td>28.0000</td>\n",
       "      <td>3.0</td>\n",
       "    </tr>\n",
       "    <tr>\n",
       "      <th>3</th>\n",
       "      <td>Samoa américaines</td>\n",
       "      <td>ASM</td>\n",
       "      <td>American Samoa</td>\n",
       "      <td>AS</td>\n",
       "      <td>16</td>\n",
       "      <td>-14.3333</td>\n",
       "      <td>-170.0</td>\n",
       "    </tr>\n",
       "    <tr>\n",
       "      <th>4</th>\n",
       "      <td>Andorre</td>\n",
       "      <td>AND</td>\n",
       "      <td>Andorra</td>\n",
       "      <td>AD</td>\n",
       "      <td>20</td>\n",
       "      <td>42.5000</td>\n",
       "      <td>1.6</td>\n",
       "    </tr>\n",
       "    <tr>\n",
       "      <th>...</th>\n",
       "      <td>...</td>\n",
       "      <td>...</td>\n",
       "      <td>...</td>\n",
       "      <td>...</td>\n",
       "      <td>...</td>\n",
       "      <td>...</td>\n",
       "      <td>...</td>\n",
       "    </tr>\n",
       "    <tr>\n",
       "      <th>239</th>\n",
       "      <td>Îles Wallis-et-Futuna</td>\n",
       "      <td>WLF</td>\n",
       "      <td>Wallis and Futuna</td>\n",
       "      <td>WF</td>\n",
       "      <td>876</td>\n",
       "      <td>-13.3000</td>\n",
       "      <td>-176.2</td>\n",
       "    </tr>\n",
       "    <tr>\n",
       "      <th>240</th>\n",
       "      <td>Sahara occidental</td>\n",
       "      <td>ESH</td>\n",
       "      <td>Western Sahara</td>\n",
       "      <td>EH</td>\n",
       "      <td>732</td>\n",
       "      <td>24.5000</td>\n",
       "      <td>-13.0</td>\n",
       "    </tr>\n",
       "    <tr>\n",
       "      <th>241</th>\n",
       "      <td>Yémen</td>\n",
       "      <td>YEM</td>\n",
       "      <td>Yemen</td>\n",
       "      <td>YE</td>\n",
       "      <td>887</td>\n",
       "      <td>15.0000</td>\n",
       "      <td>48.0</td>\n",
       "    </tr>\n",
       "    <tr>\n",
       "      <th>242</th>\n",
       "      <td>Zambie</td>\n",
       "      <td>ZMB</td>\n",
       "      <td>Zambia</td>\n",
       "      <td>ZM</td>\n",
       "      <td>894</td>\n",
       "      <td>-15.0000</td>\n",
       "      <td>30.0</td>\n",
       "    </tr>\n",
       "    <tr>\n",
       "      <th>243</th>\n",
       "      <td>Zimbabwe</td>\n",
       "      <td>ZWE</td>\n",
       "      <td>Zimbabwe</td>\n",
       "      <td>ZW</td>\n",
       "      <td>716</td>\n",
       "      <td>-20.0000</td>\n",
       "      <td>30.0</td>\n",
       "    </tr>\n",
       "  </tbody>\n",
       "</table>\n",
       "<p>244 rows × 7 columns</p>\n",
       "</div>"
      ],
      "text/plain": [
       "                      Pays Code ISO3            Country Alpha-2 code  \\\n",
       "0              Afghanistan       AFG        Afghanistan           AF   \n",
       "1                  Albanie       ALB            Albania           AL   \n",
       "2                  Algérie       DZA            Algeria           DZ   \n",
       "3        Samoa américaines       ASM     American Samoa           AS   \n",
       "4                  Andorre       AND            Andorra           AD   \n",
       "..                     ...       ...                ...          ...   \n",
       "239  Îles Wallis-et-Futuna       WLF  Wallis and Futuna           WF   \n",
       "240      Sahara occidental       ESH     Western Sahara           EH   \n",
       "241                  Yémen       YEM              Yemen           YE   \n",
       "242                 Zambie       ZMB             Zambia           ZM   \n",
       "243               Zimbabwe       ZWE           Zimbabwe           ZW   \n",
       "\n",
       "     Numeric code  Latitude (average)  Longitude (average)  \n",
       "0               4             33.0000                 65.0  \n",
       "1               8             41.0000                 20.0  \n",
       "2              12             28.0000                  3.0  \n",
       "3              16            -14.3333               -170.0  \n",
       "4              20             42.5000                  1.6  \n",
       "..            ...                 ...                  ...  \n",
       "239           876            -13.3000               -176.2  \n",
       "240           732             24.5000                -13.0  \n",
       "241           887             15.0000                 48.0  \n",
       "242           894            -15.0000                 30.0  \n",
       "243           716            -20.0000                 30.0  \n",
       "\n",
       "[244 rows x 7 columns]"
      ]
     },
     "execution_count": 4557,
     "metadata": {},
     "output_type": "execute_result"
    }
   ],
   "source": [
    "coordinates_df = pd.merge(fao_codes_df[['Pays',features[2]]],coordinates_df,how='right',on = features[2])\n",
    "\n",
    "coordinates_df"
   ]
  },
  {
   "attachments": {},
   "cell_type": "markdown",
   "metadata": {},
   "source": [
    "Supprimons maintenant la colonne Country."
   ]
  },
  {
   "cell_type": "code",
   "execution_count": 4558,
   "metadata": {},
   "outputs": [
    {
     "data": {
      "text/html": [
       "<div>\n",
       "<style scoped>\n",
       "    .dataframe tbody tr th:only-of-type {\n",
       "        vertical-align: middle;\n",
       "    }\n",
       "\n",
       "    .dataframe tbody tr th {\n",
       "        vertical-align: top;\n",
       "    }\n",
       "\n",
       "    .dataframe thead th {\n",
       "        text-align: right;\n",
       "    }\n",
       "</style>\n",
       "<table border=\"1\" class=\"dataframe\">\n",
       "  <thead>\n",
       "    <tr style=\"text-align: right;\">\n",
       "      <th></th>\n",
       "      <th>Pays</th>\n",
       "      <th>Code ISO3</th>\n",
       "      <th>Alpha-2 code</th>\n",
       "      <th>Numeric code</th>\n",
       "      <th>Latitude (average)</th>\n",
       "      <th>Longitude (average)</th>\n",
       "    </tr>\n",
       "  </thead>\n",
       "  <tbody>\n",
       "    <tr>\n",
       "      <th>0</th>\n",
       "      <td>Afghanistan</td>\n",
       "      <td>AFG</td>\n",
       "      <td>AF</td>\n",
       "      <td>4</td>\n",
       "      <td>33.0000</td>\n",
       "      <td>65.0</td>\n",
       "    </tr>\n",
       "    <tr>\n",
       "      <th>1</th>\n",
       "      <td>Albanie</td>\n",
       "      <td>ALB</td>\n",
       "      <td>AL</td>\n",
       "      <td>8</td>\n",
       "      <td>41.0000</td>\n",
       "      <td>20.0</td>\n",
       "    </tr>\n",
       "    <tr>\n",
       "      <th>2</th>\n",
       "      <td>Algérie</td>\n",
       "      <td>DZA</td>\n",
       "      <td>DZ</td>\n",
       "      <td>12</td>\n",
       "      <td>28.0000</td>\n",
       "      <td>3.0</td>\n",
       "    </tr>\n",
       "    <tr>\n",
       "      <th>3</th>\n",
       "      <td>Samoa américaines</td>\n",
       "      <td>ASM</td>\n",
       "      <td>AS</td>\n",
       "      <td>16</td>\n",
       "      <td>-14.3333</td>\n",
       "      <td>-170.0</td>\n",
       "    </tr>\n",
       "    <tr>\n",
       "      <th>4</th>\n",
       "      <td>Andorre</td>\n",
       "      <td>AND</td>\n",
       "      <td>AD</td>\n",
       "      <td>20</td>\n",
       "      <td>42.5000</td>\n",
       "      <td>1.6</td>\n",
       "    </tr>\n",
       "  </tbody>\n",
       "</table>\n",
       "</div>"
      ],
      "text/plain": [
       "                Pays Code ISO3 Alpha-2 code  Numeric code  Latitude (average)  \\\n",
       "0        Afghanistan       AFG           AF             4             33.0000   \n",
       "1            Albanie       ALB           AL             8             41.0000   \n",
       "2            Algérie       DZA           DZ            12             28.0000   \n",
       "3  Samoa américaines       ASM           AS            16            -14.3333   \n",
       "4            Andorre       AND           AD            20             42.5000   \n",
       "\n",
       "   Longitude (average)  \n",
       "0                 65.0  \n",
       "1                 20.0  \n",
       "2                  3.0  \n",
       "3               -170.0  \n",
       "4                  1.6  "
      ]
     },
     "execution_count": 4558,
     "metadata": {},
     "output_type": "execute_result"
    }
   ],
   "source": [
    "coordinates_df = coordinates_df.drop(columns=[features[0]])\n",
    "\n",
    "coordinates_df.head()"
   ]
  },
  {
   "attachments": {},
   "cell_type": "markdown",
   "metadata": {},
   "source": [
    "On recupère la latitude et la longitude de la France"
   ]
  },
  {
   "cell_type": "code",
   "execution_count": 4559,
   "metadata": {},
   "outputs": [],
   "source": [
    "france_lat = coordinates_df[coordinates_df['Pays'] == 'France']['Latitude (average)'].sum()\n",
    "france_long = coordinates_df[coordinates_df['Pays'] == 'France']['Longitude (average)'].sum()\n"
   ]
  },
  {
   "attachments": {},
   "cell_type": "markdown",
   "metadata": {},
   "source": [
    "Maintenant créons une fonction qui permet de mesurer une distance entre deux coordonnées. Appliquons cette fonction à nos données"
   ]
  },
  {
   "cell_type": "code",
   "execution_count": 4560,
   "metadata": {},
   "outputs": [],
   "source": [
    "def distance_gps(table,ref_lon,lon_name,ref_lat,lat_name):\n",
    "    R = 6371\n",
    "    ref_lat = radians(ref_lat)\n",
    "    ref_lon = radians(ref_lon)\n",
    "    table[lon_name] = np.radians(table[lon_name])\n",
    "    table[lat_name] = np.radians(table[lat_name])\n",
    "\n",
    "    table['dlon'] = table[lon_name] - ref_lon\n",
    "    table['dlat'] = table[lat_name] - ref_lat\n",
    "    table['a'] = (np.sin(table['dlat']/2))**2 + np.cos(ref_lat) * np.cos(table[lat_name]) * (np.sin(table['dlon']/2))**2\n",
    "    table['c'] = 2 * np.arctan2(np.sqrt(table.a), np.sqrt(1-table.a))\n",
    "    table['Distance à la France'] = round(R * table.c,0)\n",
    "    table = table.drop(columns = ['dlon','dlat','a','c'])\n",
    "    return table\n"
   ]
  },
  {
   "cell_type": "code",
   "execution_count": 4561,
   "metadata": {},
   "outputs": [
    {
     "data": {
      "text/html": [
       "<div>\n",
       "<style scoped>\n",
       "    .dataframe tbody tr th:only-of-type {\n",
       "        vertical-align: middle;\n",
       "    }\n",
       "\n",
       "    .dataframe tbody tr th {\n",
       "        vertical-align: top;\n",
       "    }\n",
       "\n",
       "    .dataframe thead th {\n",
       "        text-align: right;\n",
       "    }\n",
       "</style>\n",
       "<table border=\"1\" class=\"dataframe\">\n",
       "  <thead>\n",
       "    <tr style=\"text-align: right;\">\n",
       "      <th></th>\n",
       "      <th>Pays</th>\n",
       "      <th>Code ISO3</th>\n",
       "      <th>Alpha-2 code</th>\n",
       "      <th>Numeric code</th>\n",
       "      <th>Latitude (average)</th>\n",
       "      <th>Longitude (average)</th>\n",
       "      <th>Distance à la France</th>\n",
       "    </tr>\n",
       "  </thead>\n",
       "  <tbody>\n",
       "    <tr>\n",
       "      <th>0</th>\n",
       "      <td>Afghanistan</td>\n",
       "      <td>AFG</td>\n",
       "      <td>AF</td>\n",
       "      <td>4</td>\n",
       "      <td>0.575959</td>\n",
       "      <td>1.134464</td>\n",
       "      <td>5447.0</td>\n",
       "    </tr>\n",
       "    <tr>\n",
       "      <th>1</th>\n",
       "      <td>Albanie</td>\n",
       "      <td>ALB</td>\n",
       "      <td>AL</td>\n",
       "      <td>8</td>\n",
       "      <td>0.715585</td>\n",
       "      <td>0.349066</td>\n",
       "      <td>1550.0</td>\n",
       "    </tr>\n",
       "    <tr>\n",
       "      <th>2</th>\n",
       "      <td>Algérie</td>\n",
       "      <td>DZA</td>\n",
       "      <td>DZ</td>\n",
       "      <td>12</td>\n",
       "      <td>0.488692</td>\n",
       "      <td>0.052360</td>\n",
       "      <td>2003.0</td>\n",
       "    </tr>\n",
       "    <tr>\n",
       "      <th>3</th>\n",
       "      <td>Samoa américaines</td>\n",
       "      <td>ASM</td>\n",
       "      <td>AS</td>\n",
       "      <td>16</td>\n",
       "      <td>-0.250163</td>\n",
       "      <td>-2.967060</td>\n",
       "      <td>16415.0</td>\n",
       "    </tr>\n",
       "    <tr>\n",
       "      <th>4</th>\n",
       "      <td>Andorre</td>\n",
       "      <td>AND</td>\n",
       "      <td>AD</td>\n",
       "      <td>20</td>\n",
       "      <td>0.741765</td>\n",
       "      <td>0.027925</td>\n",
       "      <td>390.0</td>\n",
       "    </tr>\n",
       "  </tbody>\n",
       "</table>\n",
       "</div>"
      ],
      "text/plain": [
       "                Pays Code ISO3 Alpha-2 code  Numeric code  Latitude (average)  \\\n",
       "0        Afghanistan       AFG           AF             4            0.575959   \n",
       "1            Albanie       ALB           AL             8            0.715585   \n",
       "2            Algérie       DZA           DZ            12            0.488692   \n",
       "3  Samoa américaines       ASM           AS            16           -0.250163   \n",
       "4            Andorre       AND           AD            20            0.741765   \n",
       "\n",
       "   Longitude (average)  Distance à la France  \n",
       "0             1.134464                5447.0  \n",
       "1             0.349066                1550.0  \n",
       "2             0.052360                2003.0  \n",
       "3            -2.967060               16415.0  \n",
       "4             0.027925                 390.0  "
      ]
     },
     "execution_count": 4561,
     "metadata": {},
     "output_type": "execute_result"
    }
   ],
   "source": [
    "coordinates_df = distance_gps(coordinates_df,france_long,'Longitude (average)',france_lat,'Latitude (average)')\n",
    "coordinates_df.head()"
   ]
  },
  {
   "attachments": {},
   "cell_type": "markdown",
   "metadata": {},
   "source": [
    "On ne conserve maintenant que les colonnes   `Pays et distance à la France`"
   ]
  },
  {
   "cell_type": "code",
   "execution_count": 4562,
   "metadata": {},
   "outputs": [
    {
     "data": {
      "text/html": [
       "<div>\n",
       "<style scoped>\n",
       "    .dataframe tbody tr th:only-of-type {\n",
       "        vertical-align: middle;\n",
       "    }\n",
       "\n",
       "    .dataframe tbody tr th {\n",
       "        vertical-align: top;\n",
       "    }\n",
       "\n",
       "    .dataframe thead th {\n",
       "        text-align: right;\n",
       "    }\n",
       "</style>\n",
       "<table border=\"1\" class=\"dataframe\">\n",
       "  <thead>\n",
       "    <tr style=\"text-align: right;\">\n",
       "      <th></th>\n",
       "      <th>Pays</th>\n",
       "      <th>Distance à la France</th>\n",
       "    </tr>\n",
       "  </thead>\n",
       "  <tbody>\n",
       "    <tr>\n",
       "      <th>0</th>\n",
       "      <td>Afghanistan</td>\n",
       "      <td>5447.0</td>\n",
       "    </tr>\n",
       "    <tr>\n",
       "      <th>1</th>\n",
       "      <td>Albanie</td>\n",
       "      <td>1550.0</td>\n",
       "    </tr>\n",
       "    <tr>\n",
       "      <th>2</th>\n",
       "      <td>Algérie</td>\n",
       "      <td>2003.0</td>\n",
       "    </tr>\n",
       "    <tr>\n",
       "      <th>3</th>\n",
       "      <td>Samoa américaines</td>\n",
       "      <td>16415.0</td>\n",
       "    </tr>\n",
       "    <tr>\n",
       "      <th>4</th>\n",
       "      <td>Andorre</td>\n",
       "      <td>390.0</td>\n",
       "    </tr>\n",
       "  </tbody>\n",
       "</table>\n",
       "</div>"
      ],
      "text/plain": [
       "                Pays  Distance à la France\n",
       "0        Afghanistan                5447.0\n",
       "1            Albanie                1550.0\n",
       "2            Algérie                2003.0\n",
       "3  Samoa américaines               16415.0\n",
       "4            Andorre                 390.0"
      ]
     },
     "execution_count": 4562,
     "metadata": {},
     "output_type": "execute_result"
    }
   ],
   "source": [
    "coordinates_df = coordinates_df[['Pays','Distance à la France']]\n",
    "coordinates_df.head()"
   ]
  },
  {
   "attachments": {},
   "cell_type": "markdown",
   "metadata": {},
   "source": [
    "## 3.2 Stabilité politique\n",
    "--------------------------------------"
   ]
  },
  {
   "cell_type": "code",
   "execution_count": 4563,
   "metadata": {},
   "outputs": [
    {
     "data": {
      "text/html": [
       "<div>\n",
       "<style scoped>\n",
       "    .dataframe tbody tr th:only-of-type {\n",
       "        vertical-align: middle;\n",
       "    }\n",
       "\n",
       "    .dataframe tbody tr th {\n",
       "        vertical-align: top;\n",
       "    }\n",
       "\n",
       "    .dataframe thead th {\n",
       "        text-align: right;\n",
       "    }\n",
       "</style>\n",
       "<table border=\"1\" class=\"dataframe\">\n",
       "  <thead>\n",
       "    <tr style=\"text-align: right;\">\n",
       "      <th></th>\n",
       "      <th>Year (N)</th>\n",
       "      <th>ISO3</th>\n",
       "      <th>Rank N</th>\n",
       "      <th>Score N</th>\n",
       "      <th>FR_country</th>\n",
       "    </tr>\n",
       "  </thead>\n",
       "  <tbody>\n",
       "    <tr>\n",
       "      <th>0</th>\n",
       "      <td>2017</td>\n",
       "      <td>NOR</td>\n",
       "      <td>1</td>\n",
       "      <td>92,4</td>\n",
       "      <td>Norvège</td>\n",
       "    </tr>\n",
       "    <tr>\n",
       "      <th>1</th>\n",
       "      <td>2017</td>\n",
       "      <td>SWE</td>\n",
       "      <td>2</td>\n",
       "      <td>91,73</td>\n",
       "      <td>Suède</td>\n",
       "    </tr>\n",
       "    <tr>\n",
       "      <th>2</th>\n",
       "      <td>2017</td>\n",
       "      <td>FIN</td>\n",
       "      <td>3</td>\n",
       "      <td>91,08</td>\n",
       "      <td>Finlande</td>\n",
       "    </tr>\n",
       "    <tr>\n",
       "      <th>3</th>\n",
       "      <td>2017</td>\n",
       "      <td>DNK</td>\n",
       "      <td>4</td>\n",
       "      <td>89,64</td>\n",
       "      <td>Danemark</td>\n",
       "    </tr>\n",
       "    <tr>\n",
       "      <th>4</th>\n",
       "      <td>2017</td>\n",
       "      <td>NLD</td>\n",
       "      <td>5</td>\n",
       "      <td>88,72</td>\n",
       "      <td>Pays-Bas</td>\n",
       "    </tr>\n",
       "  </tbody>\n",
       "</table>\n",
       "</div>"
      ],
      "text/plain": [
       "   Year (N) ISO3  Rank N Score N FR_country\n",
       "0      2017  NOR       1    92,4    Norvège\n",
       "1      2017  SWE       2   91,73      Suède\n",
       "2      2017  FIN       3   91,08   Finlande\n",
       "3      2017  DNK       4   89,64   Danemark\n",
       "4      2017  NLD       5   88,72   Pays-Bas"
      ]
     },
     "execution_count": 4563,
     "metadata": {},
     "output_type": "execute_result"
    }
   ],
   "source": [
    "political_stability_df.head()"
   ]
  },
  {
   "attachments": {},
   "cell_type": "markdown",
   "metadata": {},
   "source": [
    "Même problème changer le nom de la colonne ISO3 mise des même nom de pays"
   ]
  },
  {
   "cell_type": "code",
   "execution_count": 4564,
   "metadata": {},
   "outputs": [
    {
     "data": {
      "text/html": [
       "<div>\n",
       "<style scoped>\n",
       "    .dataframe tbody tr th:only-of-type {\n",
       "        vertical-align: middle;\n",
       "    }\n",
       "\n",
       "    .dataframe tbody tr th {\n",
       "        vertical-align: top;\n",
       "    }\n",
       "\n",
       "    .dataframe thead th {\n",
       "        text-align: right;\n",
       "    }\n",
       "</style>\n",
       "<table border=\"1\" class=\"dataframe\">\n",
       "  <thead>\n",
       "    <tr style=\"text-align: right;\">\n",
       "      <th></th>\n",
       "      <th>Year (N)</th>\n",
       "      <th>Code ISO3</th>\n",
       "      <th>Rank N</th>\n",
       "      <th>Score N</th>\n",
       "      <th>FR_country</th>\n",
       "    </tr>\n",
       "  </thead>\n",
       "  <tbody>\n",
       "    <tr>\n",
       "      <th>0</th>\n",
       "      <td>2017</td>\n",
       "      <td>NOR</td>\n",
       "      <td>1</td>\n",
       "      <td>92,4</td>\n",
       "      <td>Norvège</td>\n",
       "    </tr>\n",
       "    <tr>\n",
       "      <th>1</th>\n",
       "      <td>2017</td>\n",
       "      <td>SWE</td>\n",
       "      <td>2</td>\n",
       "      <td>91,73</td>\n",
       "      <td>Suède</td>\n",
       "    </tr>\n",
       "    <tr>\n",
       "      <th>2</th>\n",
       "      <td>2017</td>\n",
       "      <td>FIN</td>\n",
       "      <td>3</td>\n",
       "      <td>91,08</td>\n",
       "      <td>Finlande</td>\n",
       "    </tr>\n",
       "    <tr>\n",
       "      <th>3</th>\n",
       "      <td>2017</td>\n",
       "      <td>DNK</td>\n",
       "      <td>4</td>\n",
       "      <td>89,64</td>\n",
       "      <td>Danemark</td>\n",
       "    </tr>\n",
       "    <tr>\n",
       "      <th>4</th>\n",
       "      <td>2017</td>\n",
       "      <td>NLD</td>\n",
       "      <td>5</td>\n",
       "      <td>88,72</td>\n",
       "      <td>Pays-Bas</td>\n",
       "    </tr>\n",
       "  </tbody>\n",
       "</table>\n",
       "</div>"
      ],
      "text/plain": [
       "   Year (N) Code ISO3  Rank N Score N FR_country\n",
       "0      2017       NOR       1    92,4    Norvège\n",
       "1      2017       SWE       2   91,73      Suède\n",
       "2      2017       FIN       3   91,08   Finlande\n",
       "3      2017       DNK       4   89,64   Danemark\n",
       "4      2017       NLD       5   88,72   Pays-Bas"
      ]
     },
     "execution_count": 4564,
     "metadata": {},
     "output_type": "execute_result"
    }
   ],
   "source": [
    "political_stability_df = political_stability_df.rename(columns={'ISO3' : features[2]})\n",
    "political_stability_df.head()"
   ]
  },
  {
   "attachments": {},
   "cell_type": "markdown",
   "metadata": {},
   "source": [
    "Changeons les noms à partir de la dénominbation FAO"
   ]
  },
  {
   "cell_type": "code",
   "execution_count": 4565,
   "metadata": {},
   "outputs": [
    {
     "data": {
      "text/html": [
       "<div>\n",
       "<style scoped>\n",
       "    .dataframe tbody tr th:only-of-type {\n",
       "        vertical-align: middle;\n",
       "    }\n",
       "\n",
       "    .dataframe tbody tr th {\n",
       "        vertical-align: top;\n",
       "    }\n",
       "\n",
       "    .dataframe thead th {\n",
       "        text-align: right;\n",
       "    }\n",
       "</style>\n",
       "<table border=\"1\" class=\"dataframe\">\n",
       "  <thead>\n",
       "    <tr style=\"text-align: right;\">\n",
       "      <th></th>\n",
       "      <th>Pays</th>\n",
       "      <th>Code ISO3</th>\n",
       "      <th>Year (N)</th>\n",
       "      <th>Rank N</th>\n",
       "      <th>Score N</th>\n",
       "      <th>FR_country</th>\n",
       "    </tr>\n",
       "  </thead>\n",
       "  <tbody>\n",
       "    <tr>\n",
       "      <th>0</th>\n",
       "      <td>Norvège</td>\n",
       "      <td>NOR</td>\n",
       "      <td>2017</td>\n",
       "      <td>1</td>\n",
       "      <td>92,4</td>\n",
       "      <td>Norvège</td>\n",
       "    </tr>\n",
       "    <tr>\n",
       "      <th>1</th>\n",
       "      <td>Suède</td>\n",
       "      <td>SWE</td>\n",
       "      <td>2017</td>\n",
       "      <td>2</td>\n",
       "      <td>91,73</td>\n",
       "      <td>Suède</td>\n",
       "    </tr>\n",
       "    <tr>\n",
       "      <th>2</th>\n",
       "      <td>Finlande</td>\n",
       "      <td>FIN</td>\n",
       "      <td>2017</td>\n",
       "      <td>3</td>\n",
       "      <td>91,08</td>\n",
       "      <td>Finlande</td>\n",
       "    </tr>\n",
       "    <tr>\n",
       "      <th>3</th>\n",
       "      <td>Danemark</td>\n",
       "      <td>DNK</td>\n",
       "      <td>2017</td>\n",
       "      <td>4</td>\n",
       "      <td>89,64</td>\n",
       "      <td>Danemark</td>\n",
       "    </tr>\n",
       "    <tr>\n",
       "      <th>4</th>\n",
       "      <td>Pays-Bas</td>\n",
       "      <td>NLD</td>\n",
       "      <td>2017</td>\n",
       "      <td>5</td>\n",
       "      <td>88,72</td>\n",
       "      <td>Pays-Bas</td>\n",
       "    </tr>\n",
       "  </tbody>\n",
       "</table>\n",
       "</div>"
      ],
      "text/plain": [
       "       Pays Code ISO3  Year (N)  Rank N Score N FR_country\n",
       "0   Norvège       NOR      2017       1    92,4    Norvège\n",
       "1     Suède       SWE      2017       2   91,73      Suède\n",
       "2  Finlande       FIN      2017       3   91,08   Finlande\n",
       "3  Danemark       DNK      2017       4   89,64   Danemark\n",
       "4  Pays-Bas       NLD      2017       5   88,72   Pays-Bas"
      ]
     },
     "execution_count": 4565,
     "metadata": {},
     "output_type": "execute_result"
    }
   ],
   "source": [
    "political_stability_df = pd.merge(fao_codes_df[['Pays',features[2]]],political_stability_df,how='right',on=features[2])\n",
    "political_stability_df.head()"
   ]
  },
  {
   "attachments": {},
   "cell_type": "markdown",
   "metadata": {},
   "source": [
    "Supprimons la colonne FR_country"
   ]
  },
  {
   "cell_type": "code",
   "execution_count": 4566,
   "metadata": {},
   "outputs": [
    {
     "data": {
      "text/html": [
       "<div>\n",
       "<style scoped>\n",
       "    .dataframe tbody tr th:only-of-type {\n",
       "        vertical-align: middle;\n",
       "    }\n",
       "\n",
       "    .dataframe tbody tr th {\n",
       "        vertical-align: top;\n",
       "    }\n",
       "\n",
       "    .dataframe thead th {\n",
       "        text-align: right;\n",
       "    }\n",
       "</style>\n",
       "<table border=\"1\" class=\"dataframe\">\n",
       "  <thead>\n",
       "    <tr style=\"text-align: right;\">\n",
       "      <th></th>\n",
       "      <th>Pays</th>\n",
       "      <th>Code ISO3</th>\n",
       "      <th>Year (N)</th>\n",
       "      <th>Rank N</th>\n",
       "      <th>Score N</th>\n",
       "    </tr>\n",
       "  </thead>\n",
       "  <tbody>\n",
       "    <tr>\n",
       "      <th>0</th>\n",
       "      <td>Norvège</td>\n",
       "      <td>NOR</td>\n",
       "      <td>2017</td>\n",
       "      <td>1</td>\n",
       "      <td>92,4</td>\n",
       "    </tr>\n",
       "    <tr>\n",
       "      <th>1</th>\n",
       "      <td>Suède</td>\n",
       "      <td>SWE</td>\n",
       "      <td>2017</td>\n",
       "      <td>2</td>\n",
       "      <td>91,73</td>\n",
       "    </tr>\n",
       "    <tr>\n",
       "      <th>2</th>\n",
       "      <td>Finlande</td>\n",
       "      <td>FIN</td>\n",
       "      <td>2017</td>\n",
       "      <td>3</td>\n",
       "      <td>91,08</td>\n",
       "    </tr>\n",
       "    <tr>\n",
       "      <th>3</th>\n",
       "      <td>Danemark</td>\n",
       "      <td>DNK</td>\n",
       "      <td>2017</td>\n",
       "      <td>4</td>\n",
       "      <td>89,64</td>\n",
       "    </tr>\n",
       "    <tr>\n",
       "      <th>4</th>\n",
       "      <td>Pays-Bas</td>\n",
       "      <td>NLD</td>\n",
       "      <td>2017</td>\n",
       "      <td>5</td>\n",
       "      <td>88,72</td>\n",
       "    </tr>\n",
       "  </tbody>\n",
       "</table>\n",
       "</div>"
      ],
      "text/plain": [
       "       Pays Code ISO3  Year (N)  Rank N Score N\n",
       "0   Norvège       NOR      2017       1    92,4\n",
       "1     Suède       SWE      2017       2   91,73\n",
       "2  Finlande       FIN      2017       3   91,08\n",
       "3  Danemark       DNK      2017       4   89,64\n",
       "4  Pays-Bas       NLD      2017       5   88,72"
      ]
     },
     "execution_count": 4566,
     "metadata": {},
     "output_type": "execute_result"
    }
   ],
   "source": [
    "political_stability_df = political_stability_df.drop(columns=['FR_country'])\n",
    "political_stability_df.head()"
   ]
  },
  {
   "attachments": {},
   "cell_type": "markdown",
   "metadata": {},
   "source": [
    "On ne garde que les colonne `Score N` et `Pays` <br>\n",
    "Et on renomme Score N en stabilité politique"
   ]
  },
  {
   "cell_type": "code",
   "execution_count": 4567,
   "metadata": {},
   "outputs": [
    {
     "data": {
      "text/html": [
       "<div>\n",
       "<style scoped>\n",
       "    .dataframe tbody tr th:only-of-type {\n",
       "        vertical-align: middle;\n",
       "    }\n",
       "\n",
       "    .dataframe tbody tr th {\n",
       "        vertical-align: top;\n",
       "    }\n",
       "\n",
       "    .dataframe thead th {\n",
       "        text-align: right;\n",
       "    }\n",
       "</style>\n",
       "<table border=\"1\" class=\"dataframe\">\n",
       "  <thead>\n",
       "    <tr style=\"text-align: right;\">\n",
       "      <th></th>\n",
       "      <th>Pays</th>\n",
       "      <th>Stabilité politique</th>\n",
       "    </tr>\n",
       "  </thead>\n",
       "  <tbody>\n",
       "    <tr>\n",
       "      <th>0</th>\n",
       "      <td>Norvège</td>\n",
       "      <td>92,4</td>\n",
       "    </tr>\n",
       "    <tr>\n",
       "      <th>1</th>\n",
       "      <td>Suède</td>\n",
       "      <td>91,73</td>\n",
       "    </tr>\n",
       "    <tr>\n",
       "      <th>2</th>\n",
       "      <td>Finlande</td>\n",
       "      <td>91,08</td>\n",
       "    </tr>\n",
       "    <tr>\n",
       "      <th>3</th>\n",
       "      <td>Danemark</td>\n",
       "      <td>89,64</td>\n",
       "    </tr>\n",
       "    <tr>\n",
       "      <th>4</th>\n",
       "      <td>Pays-Bas</td>\n",
       "      <td>88,72</td>\n",
       "    </tr>\n",
       "  </tbody>\n",
       "</table>\n",
       "</div>"
      ],
      "text/plain": [
       "       Pays Stabilité politique\n",
       "0   Norvège                92,4\n",
       "1     Suède               91,73\n",
       "2  Finlande               91,08\n",
       "3  Danemark               89,64\n",
       "4  Pays-Bas               88,72"
      ]
     },
     "execution_count": 4567,
     "metadata": {},
     "output_type": "execute_result"
    }
   ],
   "source": [
    "political_stability_df = political_stability_df[['Pays','Score N']]\n",
    "political_stability_df = political_stability_df.rename(columns={'Score N': 'Stabilité politique'})\n",
    "political_stability_df.head()"
   ]
  },
  {
   "cell_type": "code",
   "execution_count": 4568,
   "metadata": {},
   "outputs": [
    {
     "name": "stdout",
     "output_type": "stream",
     "text": [
      "<class 'pandas.core.frame.DataFrame'>\n",
      "Int64Index: 180 entries, 0 to 179\n",
      "Data columns (total 2 columns):\n",
      " #   Column               Non-Null Count  Dtype \n",
      "---  ------               --------------  ----- \n",
      " 0   Pays                 177 non-null    object\n",
      " 1   Stabilité politique  180 non-null    object\n",
      "dtypes: object(2)\n",
      "memory usage: 4.2+ KB\n"
     ]
    }
   ],
   "source": [
    "political_stability_df.info()"
   ]
  },
  {
   "attachments": {},
   "cell_type": "markdown",
   "metadata": {},
   "source": [
    "Le score de stabilité politique est en float ceci est du au séparateur décimal du nombre, une virgule.<br>\n",
    "Nous allons corrigé et le passer en format float."
   ]
  },
  {
   "cell_type": "code",
   "execution_count": 4569,
   "metadata": {},
   "outputs": [],
   "source": [
    "political_stability_df['Stabilité politique'] = political_stability_df['Stabilité politique'].str.replace(',','.')\n",
    "political_stability_df['Stabilité politique'] = pd.to_numeric(political_stability_df['Stabilité politique'])"
   ]
  },
  {
   "cell_type": "code",
   "execution_count": 4570,
   "metadata": {},
   "outputs": [
    {
     "name": "stdout",
     "output_type": "stream",
     "text": [
      "<class 'pandas.core.frame.DataFrame'>\n",
      "Int64Index: 180 entries, 0 to 179\n",
      "Data columns (total 2 columns):\n",
      " #   Column               Non-Null Count  Dtype  \n",
      "---  ------               --------------  -----  \n",
      " 0   Pays                 177 non-null    object \n",
      " 1   Stabilité politique  180 non-null    float64\n",
      "dtypes: float64(1), object(1)\n",
      "memory usage: 4.2+ KB\n"
     ]
    }
   ],
   "source": [
    "political_stability_df.info()"
   ]
  },
  {
   "cell_type": "code",
   "execution_count": 4571,
   "metadata": {},
   "outputs": [
    {
     "data": {
      "text/html": [
       "<div>\n",
       "<style scoped>\n",
       "    .dataframe tbody tr th:only-of-type {\n",
       "        vertical-align: middle;\n",
       "    }\n",
       "\n",
       "    .dataframe tbody tr th {\n",
       "        vertical-align: top;\n",
       "    }\n",
       "\n",
       "    .dataframe thead th {\n",
       "        text-align: right;\n",
       "    }\n",
       "</style>\n",
       "<table border=\"1\" class=\"dataframe\">\n",
       "  <thead>\n",
       "    <tr style=\"text-align: right;\">\n",
       "      <th></th>\n",
       "      <th>Pays</th>\n",
       "      <th>Stabilité politique</th>\n",
       "    </tr>\n",
       "  </thead>\n",
       "  <tbody>\n",
       "    <tr>\n",
       "      <th>37</th>\n",
       "      <td>NaN</td>\n",
       "      <td>77.90</td>\n",
       "    </tr>\n",
       "    <tr>\n",
       "      <th>74</th>\n",
       "      <td>NaN</td>\n",
       "      <td>70.12</td>\n",
       "    </tr>\n",
       "    <tr>\n",
       "      <th>81</th>\n",
       "      <td>NaN</td>\n",
       "      <td>69.55</td>\n",
       "    </tr>\n",
       "  </tbody>\n",
       "</table>\n",
       "</div>"
      ],
      "text/plain": [
       "   Pays  Stabilité politique\n",
       "37  NaN                77.90\n",
       "74  NaN                70.12\n",
       "81  NaN                69.55"
      ]
     },
     "metadata": {},
     "output_type": "display_data"
    }
   ],
   "source": [
    "display(political_stability_df[political_stability_df.Pays.isna()])"
   ]
  },
  {
   "attachments": {},
   "cell_type": "markdown",
   "metadata": {},
   "source": [
    "Les Pays vide correspondent dans l'ordre à l'OCDE, Chypre Nord, et le Kosovo qui ne sont pas recencé dans les pays de la FAO (OCDE n'est pas un pays).\n",
    "On ne garde que les valeurs non-nulle"
   ]
  },
  {
   "cell_type": "code",
   "execution_count": 4572,
   "metadata": {},
   "outputs": [],
   "source": [
    "political_stability_df = political_stability_df[political_stability_df.Pays.notna()]"
   ]
  },
  {
   "attachments": {},
   "cell_type": "markdown",
   "metadata": {},
   "source": [
    "## 3.3 Langue la plus parlée\n",
    "----------------------------------------"
   ]
  },
  {
   "cell_type": "code",
   "execution_count": 4573,
   "metadata": {},
   "outputs": [
    {
     "data": {
      "text/html": [
       "<div>\n",
       "<style scoped>\n",
       "    .dataframe tbody tr th:only-of-type {\n",
       "        vertical-align: middle;\n",
       "    }\n",
       "\n",
       "    .dataframe tbody tr th {\n",
       "        vertical-align: top;\n",
       "    }\n",
       "\n",
       "    .dataframe thead th {\n",
       "        text-align: right;\n",
       "    }\n",
       "</style>\n",
       "<table border=\"1\" class=\"dataframe\">\n",
       "  <thead>\n",
       "    <tr style=\"text-align: right;\">\n",
       "      <th></th>\n",
       "      <th>Country</th>\n",
       "      <th>Most used language</th>\n",
       "      <th>ISO3</th>\n",
       "    </tr>\n",
       "  </thead>\n",
       "  <tbody>\n",
       "    <tr>\n",
       "      <th>0</th>\n",
       "      <td>Afghanistan</td>\n",
       "      <td>Pashto</td>\n",
       "      <td>AFG</td>\n",
       "    </tr>\n",
       "    <tr>\n",
       "      <th>1</th>\n",
       "      <td>Albania</td>\n",
       "      <td>Albanian</td>\n",
       "      <td>ALB</td>\n",
       "    </tr>\n",
       "    <tr>\n",
       "      <th>2</th>\n",
       "      <td>Algeria</td>\n",
       "      <td>Arabic</td>\n",
       "      <td>DZA</td>\n",
       "    </tr>\n",
       "    <tr>\n",
       "      <th>3</th>\n",
       "      <td>Angola</td>\n",
       "      <td>Portuguese</td>\n",
       "      <td>AGO</td>\n",
       "    </tr>\n",
       "    <tr>\n",
       "      <th>4</th>\n",
       "      <td>Argentina</td>\n",
       "      <td>Spanish</td>\n",
       "      <td>ARG</td>\n",
       "    </tr>\n",
       "  </tbody>\n",
       "</table>\n",
       "</div>"
      ],
      "text/plain": [
       "       Country Most used language ISO3\n",
       "0  Afghanistan             Pashto  AFG\n",
       "1      Albania           Albanian  ALB\n",
       "2      Algeria             Arabic  DZA\n",
       "3       Angola         Portuguese  AGO\n",
       "4    Argentina            Spanish  ARG"
      ]
     },
     "execution_count": 4573,
     "metadata": {},
     "output_type": "execute_result"
    }
   ],
   "source": [
    "languages_df.head()"
   ]
  },
  {
   "cell_type": "code",
   "execution_count": 4574,
   "metadata": {},
   "outputs": [
    {
     "data": {
      "text/html": [
       "<div>\n",
       "<style scoped>\n",
       "    .dataframe tbody tr th:only-of-type {\n",
       "        vertical-align: middle;\n",
       "    }\n",
       "\n",
       "    .dataframe tbody tr th {\n",
       "        vertical-align: top;\n",
       "    }\n",
       "\n",
       "    .dataframe thead th {\n",
       "        text-align: right;\n",
       "    }\n",
       "</style>\n",
       "<table border=\"1\" class=\"dataframe\">\n",
       "  <thead>\n",
       "    <tr style=\"text-align: right;\">\n",
       "      <th></th>\n",
       "      <th>Country</th>\n",
       "      <th>Most used language</th>\n",
       "      <th>Code ISO3</th>\n",
       "    </tr>\n",
       "  </thead>\n",
       "  <tbody>\n",
       "    <tr>\n",
       "      <th>0</th>\n",
       "      <td>Afghanistan</td>\n",
       "      <td>Pashto</td>\n",
       "      <td>AFG</td>\n",
       "    </tr>\n",
       "    <tr>\n",
       "      <th>1</th>\n",
       "      <td>Albania</td>\n",
       "      <td>Albanian</td>\n",
       "      <td>ALB</td>\n",
       "    </tr>\n",
       "    <tr>\n",
       "      <th>2</th>\n",
       "      <td>Algeria</td>\n",
       "      <td>Arabic</td>\n",
       "      <td>DZA</td>\n",
       "    </tr>\n",
       "    <tr>\n",
       "      <th>3</th>\n",
       "      <td>Angola</td>\n",
       "      <td>Portuguese</td>\n",
       "      <td>AGO</td>\n",
       "    </tr>\n",
       "    <tr>\n",
       "      <th>4</th>\n",
       "      <td>Argentina</td>\n",
       "      <td>Spanish</td>\n",
       "      <td>ARG</td>\n",
       "    </tr>\n",
       "  </tbody>\n",
       "</table>\n",
       "</div>"
      ],
      "text/plain": [
       "       Country Most used language Code ISO3\n",
       "0  Afghanistan             Pashto       AFG\n",
       "1      Albania           Albanian       ALB\n",
       "2      Algeria             Arabic       DZA\n",
       "3       Angola         Portuguese       AGO\n",
       "4    Argentina            Spanish       ARG"
      ]
     },
     "execution_count": 4574,
     "metadata": {},
     "output_type": "execute_result"
    }
   ],
   "source": [
    "languages_df = languages_df.rename(columns={'ISO3' : features[2]})\n",
    "languages_df.head()"
   ]
  },
  {
   "cell_type": "code",
   "execution_count": 4575,
   "metadata": {},
   "outputs": [
    {
     "data": {
      "text/html": [
       "<div>\n",
       "<style scoped>\n",
       "    .dataframe tbody tr th:only-of-type {\n",
       "        vertical-align: middle;\n",
       "    }\n",
       "\n",
       "    .dataframe tbody tr th {\n",
       "        vertical-align: top;\n",
       "    }\n",
       "\n",
       "    .dataframe thead th {\n",
       "        text-align: right;\n",
       "    }\n",
       "</style>\n",
       "<table border=\"1\" class=\"dataframe\">\n",
       "  <thead>\n",
       "    <tr style=\"text-align: right;\">\n",
       "      <th></th>\n",
       "      <th>Pays</th>\n",
       "      <th>Code ISO3</th>\n",
       "      <th>Country</th>\n",
       "      <th>Most used language</th>\n",
       "    </tr>\n",
       "  </thead>\n",
       "  <tbody>\n",
       "    <tr>\n",
       "      <th>0</th>\n",
       "      <td>Afghanistan</td>\n",
       "      <td>AFG</td>\n",
       "      <td>Afghanistan</td>\n",
       "      <td>Pashto</td>\n",
       "    </tr>\n",
       "    <tr>\n",
       "      <th>1</th>\n",
       "      <td>Albanie</td>\n",
       "      <td>ALB</td>\n",
       "      <td>Albania</td>\n",
       "      <td>Albanian</td>\n",
       "    </tr>\n",
       "    <tr>\n",
       "      <th>2</th>\n",
       "      <td>Algérie</td>\n",
       "      <td>DZA</td>\n",
       "      <td>Algeria</td>\n",
       "      <td>Arabic</td>\n",
       "    </tr>\n",
       "    <tr>\n",
       "      <th>3</th>\n",
       "      <td>Angola</td>\n",
       "      <td>AGO</td>\n",
       "      <td>Angola</td>\n",
       "      <td>Portuguese</td>\n",
       "    </tr>\n",
       "    <tr>\n",
       "      <th>4</th>\n",
       "      <td>Argentine</td>\n",
       "      <td>ARG</td>\n",
       "      <td>Argentina</td>\n",
       "      <td>Spanish</td>\n",
       "    </tr>\n",
       "  </tbody>\n",
       "</table>\n",
       "</div>"
      ],
      "text/plain": [
       "          Pays Code ISO3      Country Most used language\n",
       "0  Afghanistan       AFG  Afghanistan             Pashto\n",
       "1      Albanie       ALB      Albania           Albanian\n",
       "2      Algérie       DZA      Algeria             Arabic\n",
       "3       Angola       AGO       Angola         Portuguese\n",
       "4    Argentine       ARG    Argentina            Spanish"
      ]
     },
     "execution_count": 4575,
     "metadata": {},
     "output_type": "execute_result"
    }
   ],
   "source": [
    "languages_df = pd.merge(fao_codes_df[['Pays',features[2]]],languages_df,how='right',on=features[2])\n",
    "languages_df.head()"
   ]
  },
  {
   "attachments": {},
   "cell_type": "markdown",
   "metadata": {},
   "source": [
    "Supprimons les colonnes country et Code ISO3\n",
    "On renomme Most used language en langue courante"
   ]
  },
  {
   "cell_type": "code",
   "execution_count": 4576,
   "metadata": {},
   "outputs": [
    {
     "data": {
      "text/html": [
       "<div>\n",
       "<style scoped>\n",
       "    .dataframe tbody tr th:only-of-type {\n",
       "        vertical-align: middle;\n",
       "    }\n",
       "\n",
       "    .dataframe tbody tr th {\n",
       "        vertical-align: top;\n",
       "    }\n",
       "\n",
       "    .dataframe thead th {\n",
       "        text-align: right;\n",
       "    }\n",
       "</style>\n",
       "<table border=\"1\" class=\"dataframe\">\n",
       "  <thead>\n",
       "    <tr style=\"text-align: right;\">\n",
       "      <th></th>\n",
       "      <th>Pays</th>\n",
       "      <th>langue courante</th>\n",
       "    </tr>\n",
       "  </thead>\n",
       "  <tbody>\n",
       "    <tr>\n",
       "      <th>0</th>\n",
       "      <td>Afghanistan</td>\n",
       "      <td>Pashto</td>\n",
       "    </tr>\n",
       "    <tr>\n",
       "      <th>1</th>\n",
       "      <td>Albanie</td>\n",
       "      <td>Albanian</td>\n",
       "    </tr>\n",
       "    <tr>\n",
       "      <th>2</th>\n",
       "      <td>Algérie</td>\n",
       "      <td>Arabic</td>\n",
       "    </tr>\n",
       "    <tr>\n",
       "      <th>3</th>\n",
       "      <td>Angola</td>\n",
       "      <td>Portuguese</td>\n",
       "    </tr>\n",
       "    <tr>\n",
       "      <th>4</th>\n",
       "      <td>Argentine</td>\n",
       "      <td>Spanish</td>\n",
       "    </tr>\n",
       "  </tbody>\n",
       "</table>\n",
       "</div>"
      ],
      "text/plain": [
       "          Pays langue courante\n",
       "0  Afghanistan          Pashto\n",
       "1      Albanie        Albanian\n",
       "2      Algérie          Arabic\n",
       "3       Angola      Portuguese\n",
       "4    Argentine         Spanish"
      ]
     },
     "execution_count": 4576,
     "metadata": {},
     "output_type": "execute_result"
    }
   ],
   "source": [
    "languages_df = languages_df.drop(columns=['Country',features[2]])\n",
    "languages_df = languages_df.rename(columns = {'Most used language' : 'langue courante'})\n",
    "languages_df.head()"
   ]
  },
  {
   "attachments": {},
   "cell_type": "markdown",
   "metadata": {},
   "source": [
    "## 3.4 Disponibilité alimentaire\n",
    "----------------------------------------"
   ]
  },
  {
   "cell_type": "code",
   "execution_count": 4577,
   "metadata": {},
   "outputs": [
    {
     "data": {
      "text/html": [
       "<div>\n",
       "<style scoped>\n",
       "    .dataframe tbody tr th:only-of-type {\n",
       "        vertical-align: middle;\n",
       "    }\n",
       "\n",
       "    .dataframe tbody tr th {\n",
       "        vertical-align: top;\n",
       "    }\n",
       "\n",
       "    .dataframe thead th {\n",
       "        text-align: right;\n",
       "    }\n",
       "</style>\n",
       "<table border=\"1\" class=\"dataframe\">\n",
       "  <thead>\n",
       "    <tr style=\"text-align: right;\">\n",
       "      <th></th>\n",
       "      <th>Code Domaine</th>\n",
       "      <th>Domaine</th>\n",
       "      <th>Code zone</th>\n",
       "      <th>Zone</th>\n",
       "      <th>Code Élément</th>\n",
       "      <th>Élément</th>\n",
       "      <th>Code Produit</th>\n",
       "      <th>Produit</th>\n",
       "      <th>Code année</th>\n",
       "      <th>Année</th>\n",
       "      <th>Unité</th>\n",
       "      <th>Valeur</th>\n",
       "      <th>Symbole</th>\n",
       "      <th>Description du Symbole</th>\n",
       "    </tr>\n",
       "  </thead>\n",
       "  <tbody>\n",
       "    <tr>\n",
       "      <th>0</th>\n",
       "      <td>FBS</td>\n",
       "      <td>Nouveaux Bilans Alimentaire</td>\n",
       "      <td>2</td>\n",
       "      <td>Afghanistan</td>\n",
       "      <td>5511</td>\n",
       "      <td>Production</td>\n",
       "      <td>2511</td>\n",
       "      <td>Blé et produits</td>\n",
       "      <td>2017</td>\n",
       "      <td>2017</td>\n",
       "      <td>Milliers de tonnes</td>\n",
       "      <td>4281.0</td>\n",
       "      <td>S</td>\n",
       "      <td>Données standardisées</td>\n",
       "    </tr>\n",
       "    <tr>\n",
       "      <th>1</th>\n",
       "      <td>FBS</td>\n",
       "      <td>Nouveaux Bilans Alimentaire</td>\n",
       "      <td>2</td>\n",
       "      <td>Afghanistan</td>\n",
       "      <td>5611</td>\n",
       "      <td>Importations - Quantité</td>\n",
       "      <td>2511</td>\n",
       "      <td>Blé et produits</td>\n",
       "      <td>2017</td>\n",
       "      <td>2017</td>\n",
       "      <td>Milliers de tonnes</td>\n",
       "      <td>2302.0</td>\n",
       "      <td>S</td>\n",
       "      <td>Données standardisées</td>\n",
       "    </tr>\n",
       "    <tr>\n",
       "      <th>2</th>\n",
       "      <td>FBS</td>\n",
       "      <td>Nouveaux Bilans Alimentaire</td>\n",
       "      <td>2</td>\n",
       "      <td>Afghanistan</td>\n",
       "      <td>5072</td>\n",
       "      <td>Variation de stock</td>\n",
       "      <td>2511</td>\n",
       "      <td>Blé et produits</td>\n",
       "      <td>2017</td>\n",
       "      <td>2017</td>\n",
       "      <td>Milliers de tonnes</td>\n",
       "      <td>-119.0</td>\n",
       "      <td>S</td>\n",
       "      <td>Données standardisées</td>\n",
       "    </tr>\n",
       "    <tr>\n",
       "      <th>3</th>\n",
       "      <td>FBS</td>\n",
       "      <td>Nouveaux Bilans Alimentaire</td>\n",
       "      <td>2</td>\n",
       "      <td>Afghanistan</td>\n",
       "      <td>5911</td>\n",
       "      <td>Exportations - Quantité</td>\n",
       "      <td>2511</td>\n",
       "      <td>Blé et produits</td>\n",
       "      <td>2017</td>\n",
       "      <td>2017</td>\n",
       "      <td>Milliers de tonnes</td>\n",
       "      <td>0.0</td>\n",
       "      <td>S</td>\n",
       "      <td>Données standardisées</td>\n",
       "    </tr>\n",
       "    <tr>\n",
       "      <th>4</th>\n",
       "      <td>FBS</td>\n",
       "      <td>Nouveaux Bilans Alimentaire</td>\n",
       "      <td>2</td>\n",
       "      <td>Afghanistan</td>\n",
       "      <td>5301</td>\n",
       "      <td>Disponibilité intérieure</td>\n",
       "      <td>2511</td>\n",
       "      <td>Blé et produits</td>\n",
       "      <td>2017</td>\n",
       "      <td>2017</td>\n",
       "      <td>Milliers de tonnes</td>\n",
       "      <td>6701.0</td>\n",
       "      <td>S</td>\n",
       "      <td>Données standardisées</td>\n",
       "    </tr>\n",
       "  </tbody>\n",
       "</table>\n",
       "</div>"
      ],
      "text/plain": [
       "  Code Domaine                      Domaine  Code zone         Zone  \\\n",
       "0          FBS  Nouveaux Bilans Alimentaire          2  Afghanistan   \n",
       "1          FBS  Nouveaux Bilans Alimentaire          2  Afghanistan   \n",
       "2          FBS  Nouveaux Bilans Alimentaire          2  Afghanistan   \n",
       "3          FBS  Nouveaux Bilans Alimentaire          2  Afghanistan   \n",
       "4          FBS  Nouveaux Bilans Alimentaire          2  Afghanistan   \n",
       "\n",
       "   Code Élément                   Élément  Code Produit          Produit  \\\n",
       "0          5511                Production          2511  Blé et produits   \n",
       "1          5611   Importations - Quantité          2511  Blé et produits   \n",
       "2          5072        Variation de stock          2511  Blé et produits   \n",
       "3          5911   Exportations - Quantité          2511  Blé et produits   \n",
       "4          5301  Disponibilité intérieure          2511  Blé et produits   \n",
       "\n",
       "   Code année  Année               Unité  Valeur Symbole  \\\n",
       "0        2017   2017  Milliers de tonnes  4281.0       S   \n",
       "1        2017   2017  Milliers de tonnes  2302.0       S   \n",
       "2        2017   2017  Milliers de tonnes  -119.0       S   \n",
       "3        2017   2017  Milliers de tonnes     0.0       S   \n",
       "4        2017   2017  Milliers de tonnes  6701.0       S   \n",
       "\n",
       "  Description du Symbole  \n",
       "0  Données standardisées  \n",
       "1  Données standardisées  \n",
       "2  Données standardisées  \n",
       "3  Données standardisées  \n",
       "4  Données standardisées  "
      ]
     },
     "execution_count": 4577,
     "metadata": {},
     "output_type": "execute_result"
    }
   ],
   "source": [
    "features = food_availability_df.columns\n",
    "\n",
    "food_availability_df.head()"
   ]
  },
  {
   "attachments": {},
   "cell_type": "markdown",
   "metadata": {},
   "source": [
    "Dans le cadre de notre étude nous ne conserverons que la viande de volaille"
   ]
  },
  {
   "cell_type": "code",
   "execution_count": 4578,
   "metadata": {},
   "outputs": [
    {
     "data": {
      "text/html": [
       "<div>\n",
       "<style scoped>\n",
       "    .dataframe tbody tr th:only-of-type {\n",
       "        vertical-align: middle;\n",
       "    }\n",
       "\n",
       "    .dataframe tbody tr th {\n",
       "        vertical-align: top;\n",
       "    }\n",
       "\n",
       "    .dataframe thead th {\n",
       "        text-align: right;\n",
       "    }\n",
       "</style>\n",
       "<table border=\"1\" class=\"dataframe\">\n",
       "  <thead>\n",
       "    <tr style=\"text-align: right;\">\n",
       "      <th></th>\n",
       "      <th>Code Domaine</th>\n",
       "      <th>Domaine</th>\n",
       "      <th>Code zone</th>\n",
       "      <th>Zone</th>\n",
       "      <th>Code Élément</th>\n",
       "      <th>Élément</th>\n",
       "      <th>Code Produit</th>\n",
       "      <th>Produit</th>\n",
       "      <th>Code année</th>\n",
       "      <th>Année</th>\n",
       "      <th>Unité</th>\n",
       "      <th>Valeur</th>\n",
       "      <th>Symbole</th>\n",
       "      <th>Description du Symbole</th>\n",
       "    </tr>\n",
       "  </thead>\n",
       "  <tbody>\n",
       "    <tr>\n",
       "      <th>651</th>\n",
       "      <td>FBS</td>\n",
       "      <td>Nouveaux Bilans Alimentaire</td>\n",
       "      <td>2</td>\n",
       "      <td>Afghanistan</td>\n",
       "      <td>5511</td>\n",
       "      <td>Production</td>\n",
       "      <td>2734</td>\n",
       "      <td>Viande de Volailles</td>\n",
       "      <td>2017</td>\n",
       "      <td>2017</td>\n",
       "      <td>Milliers de tonnes</td>\n",
       "      <td>28.0</td>\n",
       "      <td>S</td>\n",
       "      <td>Données standardisées</td>\n",
       "    </tr>\n",
       "    <tr>\n",
       "      <th>652</th>\n",
       "      <td>FBS</td>\n",
       "      <td>Nouveaux Bilans Alimentaire</td>\n",
       "      <td>2</td>\n",
       "      <td>Afghanistan</td>\n",
       "      <td>5611</td>\n",
       "      <td>Importations - Quantité</td>\n",
       "      <td>2734</td>\n",
       "      <td>Viande de Volailles</td>\n",
       "      <td>2017</td>\n",
       "      <td>2017</td>\n",
       "      <td>Milliers de tonnes</td>\n",
       "      <td>29.0</td>\n",
       "      <td>S</td>\n",
       "      <td>Données standardisées</td>\n",
       "    </tr>\n",
       "    <tr>\n",
       "      <th>653</th>\n",
       "      <td>FBS</td>\n",
       "      <td>Nouveaux Bilans Alimentaire</td>\n",
       "      <td>2</td>\n",
       "      <td>Afghanistan</td>\n",
       "      <td>5072</td>\n",
       "      <td>Variation de stock</td>\n",
       "      <td>2734</td>\n",
       "      <td>Viande de Volailles</td>\n",
       "      <td>2017</td>\n",
       "      <td>2017</td>\n",
       "      <td>Milliers de tonnes</td>\n",
       "      <td>0.0</td>\n",
       "      <td>S</td>\n",
       "      <td>Données standardisées</td>\n",
       "    </tr>\n",
       "    <tr>\n",
       "      <th>654</th>\n",
       "      <td>FBS</td>\n",
       "      <td>Nouveaux Bilans Alimentaire</td>\n",
       "      <td>2</td>\n",
       "      <td>Afghanistan</td>\n",
       "      <td>5301</td>\n",
       "      <td>Disponibilité intérieure</td>\n",
       "      <td>2734</td>\n",
       "      <td>Viande de Volailles</td>\n",
       "      <td>2017</td>\n",
       "      <td>2017</td>\n",
       "      <td>Milliers de tonnes</td>\n",
       "      <td>57.0</td>\n",
       "      <td>S</td>\n",
       "      <td>Données standardisées</td>\n",
       "    </tr>\n",
       "    <tr>\n",
       "      <th>655</th>\n",
       "      <td>FBS</td>\n",
       "      <td>Nouveaux Bilans Alimentaire</td>\n",
       "      <td>2</td>\n",
       "      <td>Afghanistan</td>\n",
       "      <td>5123</td>\n",
       "      <td>Pertes</td>\n",
       "      <td>2734</td>\n",
       "      <td>Viande de Volailles</td>\n",
       "      <td>2017</td>\n",
       "      <td>2017</td>\n",
       "      <td>Milliers de tonnes</td>\n",
       "      <td>2.0</td>\n",
       "      <td>S</td>\n",
       "      <td>Données standardisées</td>\n",
       "    </tr>\n",
       "  </tbody>\n",
       "</table>\n",
       "</div>"
      ],
      "text/plain": [
       "    Code Domaine                      Domaine  Code zone         Zone  \\\n",
       "651          FBS  Nouveaux Bilans Alimentaire          2  Afghanistan   \n",
       "652          FBS  Nouveaux Bilans Alimentaire          2  Afghanistan   \n",
       "653          FBS  Nouveaux Bilans Alimentaire          2  Afghanistan   \n",
       "654          FBS  Nouveaux Bilans Alimentaire          2  Afghanistan   \n",
       "655          FBS  Nouveaux Bilans Alimentaire          2  Afghanistan   \n",
       "\n",
       "     Code Élément                   Élément  Code Produit  \\\n",
       "651          5511                Production          2734   \n",
       "652          5611   Importations - Quantité          2734   \n",
       "653          5072        Variation de stock          2734   \n",
       "654          5301  Disponibilité intérieure          2734   \n",
       "655          5123                    Pertes          2734   \n",
       "\n",
       "                 Produit  Code année  Année               Unité  Valeur  \\\n",
       "651  Viande de Volailles        2017   2017  Milliers de tonnes    28.0   \n",
       "652  Viande de Volailles        2017   2017  Milliers de tonnes    29.0   \n",
       "653  Viande de Volailles        2017   2017  Milliers de tonnes     0.0   \n",
       "654  Viande de Volailles        2017   2017  Milliers de tonnes    57.0   \n",
       "655  Viande de Volailles        2017   2017  Milliers de tonnes     2.0   \n",
       "\n",
       "    Symbole Description du Symbole  \n",
       "651       S  Données standardisées  \n",
       "652       S  Données standardisées  \n",
       "653       S  Données standardisées  \n",
       "654       S  Données standardisées  \n",
       "655       S  Données standardisées  "
      ]
     },
     "execution_count": 4578,
     "metadata": {},
     "output_type": "execute_result"
    }
   ],
   "source": [
    "food_availability_df = food_availability_df[food_availability_df['Produit'].str.contains('Volailles',na= False)]\n",
    "food_availability_df.head()"
   ]
  },
  {
   "attachments": {},
   "cell_type": "markdown",
   "metadata": {},
   "source": [
    "Nous allons maintenant garder uniquement les colonnes utiles soit : <br>\n",
    "<li>Le pays</li>\n",
    "<li>Les Élements</li>\n",
    "<li>Les produits</li>\n",
    "<li>L'année</li>\n",
    "<li>Les valeurs</li>"
   ]
  },
  {
   "cell_type": "code",
   "execution_count": 4579,
   "metadata": {},
   "outputs": [
    {
     "data": {
      "text/plain": [
       "['Production',\n",
       " 'Importations - Quantité',\n",
       " 'Variation de stock',\n",
       " 'Disponibilité intérieure',\n",
       " 'Pertes',\n",
       " 'Résidus',\n",
       " 'Nourriture',\n",
       " 'Disponibilité alimentaire en quantité (kg/personne/an)',\n",
       " 'Disponibilité alimentaire (Kcal/personne/jour)',\n",
       " 'Disponibilité de protéines en quantité (g/personne/jour)',\n",
       " 'Disponibilité de matière grasse en quantité (g/personne/jour)',\n",
       " 'Exportations - Quantité',\n",
       " 'Alimentation pour touristes',\n",
       " 'Traitement',\n",
       " 'Autres utilisations (non alimentaire)',\n",
       " 'Aliments pour animaux',\n",
       " 'Semences']"
      ]
     },
     "metadata": {},
     "output_type": "display_data"
    }
   ],
   "source": [
    "food_availability_df = pd.DataFrame({'Pays' : food_availability_df.Zone, 'Élément' : food_availability_df['Élément'],'Produit' : food_availability_df['Produit'], 'Année' : food_availability_df['Année'], 'Valeur' : food_availability_df['Valeur']})\n",
    "\n",
    "display(food_availability_df['Élément'].drop_duplicates().to_list())"
   ]
  },
  {
   "attachments": {},
   "cell_type": "markdown",
   "metadata": {},
   "source": [
    "On transpose la table de disponibilité alimentaire en ne conservant que les variables souhaitées : `Importations`, `Disponibilité intérieure`, `Disponibilité de protéines en quantité (g/personne/jour)`"
   ]
  },
  {
   "cell_type": "code",
   "execution_count": 4580,
   "metadata": {},
   "outputs": [
    {
     "data": {
      "text/html": [
       "<div>\n",
       "<style scoped>\n",
       "    .dataframe tbody tr th:only-of-type {\n",
       "        vertical-align: middle;\n",
       "    }\n",
       "\n",
       "    .dataframe tbody tr th {\n",
       "        vertical-align: top;\n",
       "    }\n",
       "\n",
       "    .dataframe thead th {\n",
       "        text-align: right;\n",
       "    }\n",
       "</style>\n",
       "<table border=\"1\" class=\"dataframe\">\n",
       "  <thead>\n",
       "    <tr style=\"text-align: right;\">\n",
       "      <th></th>\n",
       "      <th>Pays</th>\n",
       "      <th>Produit</th>\n",
       "      <th>Année</th>\n",
       "      <th>Production</th>\n",
       "      <th>Importations - Quantité</th>\n",
       "      <th>Disponibilité intérieure</th>\n",
       "    </tr>\n",
       "  </thead>\n",
       "  <tbody>\n",
       "    <tr>\n",
       "      <th>0</th>\n",
       "      <td>Afghanistan</td>\n",
       "      <td>Viande de Volailles</td>\n",
       "      <td>2017</td>\n",
       "      <td>28.0</td>\n",
       "      <td>29.0</td>\n",
       "      <td>57.0</td>\n",
       "    </tr>\n",
       "    <tr>\n",
       "      <th>1</th>\n",
       "      <td>Afrique du Sud</td>\n",
       "      <td>Viande de Volailles</td>\n",
       "      <td>2017</td>\n",
       "      <td>1667.0</td>\n",
       "      <td>514.0</td>\n",
       "      <td>2118.0</td>\n",
       "    </tr>\n",
       "    <tr>\n",
       "      <th>2</th>\n",
       "      <td>Albanie</td>\n",
       "      <td>Viande de Volailles</td>\n",
       "      <td>2017</td>\n",
       "      <td>13.0</td>\n",
       "      <td>38.0</td>\n",
       "      <td>47.0</td>\n",
       "    </tr>\n",
       "    <tr>\n",
       "      <th>3</th>\n",
       "      <td>Algérie</td>\n",
       "      <td>Viande de Volailles</td>\n",
       "      <td>2017</td>\n",
       "      <td>275.0</td>\n",
       "      <td>2.0</td>\n",
       "      <td>277.0</td>\n",
       "    </tr>\n",
       "    <tr>\n",
       "      <th>4</th>\n",
       "      <td>Allemagne</td>\n",
       "      <td>Viande de Volailles</td>\n",
       "      <td>2017</td>\n",
       "      <td>1514.0</td>\n",
       "      <td>842.0</td>\n",
       "      <td>1739.0</td>\n",
       "    </tr>\n",
       "    <tr>\n",
       "      <th>...</th>\n",
       "      <td>...</td>\n",
       "      <td>...</td>\n",
       "      <td>...</td>\n",
       "      <td>...</td>\n",
       "      <td>...</td>\n",
       "      <td>...</td>\n",
       "    </tr>\n",
       "    <tr>\n",
       "      <th>165</th>\n",
       "      <td>Yémen</td>\n",
       "      <td>Viande de Volailles</td>\n",
       "      <td>2017</td>\n",
       "      <td>168.0</td>\n",
       "      <td>78.0</td>\n",
       "      <td>246.0</td>\n",
       "    </tr>\n",
       "    <tr>\n",
       "      <th>166</th>\n",
       "      <td>Zambie</td>\n",
       "      <td>Viande de Volailles</td>\n",
       "      <td>2017</td>\n",
       "      <td>49.0</td>\n",
       "      <td>12.0</td>\n",
       "      <td>60.0</td>\n",
       "    </tr>\n",
       "    <tr>\n",
       "      <th>167</th>\n",
       "      <td>Zimbabwe</td>\n",
       "      <td>Viande de Volailles</td>\n",
       "      <td>2017</td>\n",
       "      <td>69.0</td>\n",
       "      <td>6.0</td>\n",
       "      <td>76.0</td>\n",
       "    </tr>\n",
       "    <tr>\n",
       "      <th>168</th>\n",
       "      <td>Djibouti</td>\n",
       "      <td>Viande de Volailles</td>\n",
       "      <td>2017</td>\n",
       "      <td>NaN</td>\n",
       "      <td>3.0</td>\n",
       "      <td>3.0</td>\n",
       "    </tr>\n",
       "    <tr>\n",
       "      <th>169</th>\n",
       "      <td>Maldives</td>\n",
       "      <td>Viande de Volailles</td>\n",
       "      <td>2017</td>\n",
       "      <td>NaN</td>\n",
       "      <td>12.0</td>\n",
       "      <td>12.0</td>\n",
       "    </tr>\n",
       "  </tbody>\n",
       "</table>\n",
       "<p>170 rows × 6 columns</p>\n",
       "</div>"
      ],
      "text/plain": [
       "               Pays              Produit  Année  Production  \\\n",
       "0       Afghanistan  Viande de Volailles   2017        28.0   \n",
       "1    Afrique du Sud  Viande de Volailles   2017      1667.0   \n",
       "2           Albanie  Viande de Volailles   2017        13.0   \n",
       "3           Algérie  Viande de Volailles   2017       275.0   \n",
       "4         Allemagne  Viande de Volailles   2017      1514.0   \n",
       "..              ...                  ...    ...         ...   \n",
       "165           Yémen  Viande de Volailles   2017       168.0   \n",
       "166          Zambie  Viande de Volailles   2017        49.0   \n",
       "167        Zimbabwe  Viande de Volailles   2017        69.0   \n",
       "168        Djibouti  Viande de Volailles   2017         NaN   \n",
       "169        Maldives  Viande de Volailles   2017         NaN   \n",
       "\n",
       "     Importations - Quantité  Disponibilité intérieure  \n",
       "0                       29.0                      57.0  \n",
       "1                      514.0                    2118.0  \n",
       "2                       38.0                      47.0  \n",
       "3                        2.0                     277.0  \n",
       "4                      842.0                    1739.0  \n",
       "..                       ...                       ...  \n",
       "165                     78.0                     246.0  \n",
       "166                     12.0                      60.0  \n",
       "167                      6.0                      76.0  \n",
       "168                      3.0                       3.0  \n",
       "169                     12.0                      12.0  \n",
       "\n",
       "[170 rows x 6 columns]"
      ]
     },
     "metadata": {},
     "output_type": "display_data"
    }
   ],
   "source": [
    "usefull_element = ['Importations - Quantité','Disponibilité intérieure']\n",
    "\n",
    "\n",
    "init_food_df = food_availability_df[food_availability_df['Élément'] == 'Production']\n",
    "init_food_df = init_food_df.drop(columns=['Élément'])\n",
    "init_food_df = init_food_df.rename(columns={'Valeur' : 'Production'})\n",
    "\n",
    "def partition(element_tab,init_df,final_df):\n",
    "    for x in element_tab:\n",
    "        inter_df = init_df[init_df['Élément'] == x]\n",
    "        inter_df = inter_df.drop(columns = ['Élément'])\n",
    "        inter_df = inter_df.rename(columns = {'Valeur' : x})\n",
    "        final_df = pd.merge(final_df,inter_df,how='outer',on=['Pays','Produit','Année'])\n",
    "    return final_df\n",
    "\n",
    "food_availability_df = partition(usefull_element,food_availability_df,init_food_df)\n",
    "\n",
    "\n",
    "display(food_availability_df)"
   ]
  },
  {
   "attachments": {},
   "cell_type": "markdown",
   "metadata": {},
   "source": [
    "On supprime les colonnes Produit et annnée"
   ]
  },
  {
   "cell_type": "code",
   "execution_count": 4581,
   "metadata": {},
   "outputs": [],
   "source": [
    "food_availability_df = food_availability_df.drop(columns=['Produit', 'Année'])"
   ]
  },
  {
   "attachments": {},
   "cell_type": "markdown",
   "metadata": {},
   "source": [
    "Maintenant nous pouvons ajouter la colonne Taux d'importation qui est égal à l'importation sur la disponibilité intérieur"
   ]
  },
  {
   "cell_type": "code",
   "execution_count": 4582,
   "metadata": {},
   "outputs": [],
   "source": [
    "food_availability_df['Taux importation'] = food_availability_df['Importations - Quantité']/food_availability_df['Disponibilité intérieure']"
   ]
  },
  {
   "cell_type": "code",
   "execution_count": 4583,
   "metadata": {},
   "outputs": [],
   "source": [
    "food_availability_df = food_availability_df.drop(columns=['Importations - Quantité','Disponibilité intérieure'])"
   ]
  },
  {
   "attachments": {},
   "cell_type": "markdown",
   "metadata": {},
   "source": [
    "# 3.5 Population\n",
    "-----------------------------------"
   ]
  },
  {
   "cell_type": "code",
   "execution_count": 4584,
   "metadata": {},
   "outputs": [
    {
     "data": {
      "text/html": [
       "<div>\n",
       "<style scoped>\n",
       "    .dataframe tbody tr th:only-of-type {\n",
       "        vertical-align: middle;\n",
       "    }\n",
       "\n",
       "    .dataframe tbody tr th {\n",
       "        vertical-align: top;\n",
       "    }\n",
       "\n",
       "    .dataframe thead th {\n",
       "        text-align: right;\n",
       "    }\n",
       "</style>\n",
       "<table border=\"1\" class=\"dataframe\">\n",
       "  <thead>\n",
       "    <tr style=\"text-align: right;\">\n",
       "      <th></th>\n",
       "      <th>Code Domaine</th>\n",
       "      <th>Domaine</th>\n",
       "      <th>Code zone</th>\n",
       "      <th>Zone</th>\n",
       "      <th>Code Élément</th>\n",
       "      <th>Élément</th>\n",
       "      <th>Code Produit</th>\n",
       "      <th>Produit</th>\n",
       "      <th>Code année</th>\n",
       "      <th>Année</th>\n",
       "      <th>Unité</th>\n",
       "      <th>Valeur</th>\n",
       "      <th>Symbole</th>\n",
       "      <th>Description du Symbole</th>\n",
       "      <th>Note</th>\n",
       "    </tr>\n",
       "  </thead>\n",
       "  <tbody>\n",
       "    <tr>\n",
       "      <th>0</th>\n",
       "      <td>OA</td>\n",
       "      <td>Séries temporelles annuelles</td>\n",
       "      <td>2</td>\n",
       "      <td>Afghanistan</td>\n",
       "      <td>511</td>\n",
       "      <td>Population totale</td>\n",
       "      <td>3010</td>\n",
       "      <td>Population-Estimations</td>\n",
       "      <td>2000</td>\n",
       "      <td>2000</td>\n",
       "      <td>1000 personnes</td>\n",
       "      <td>20779.953</td>\n",
       "      <td>X</td>\n",
       "      <td>Sources internationales sûres</td>\n",
       "      <td>NaN</td>\n",
       "    </tr>\n",
       "    <tr>\n",
       "      <th>1</th>\n",
       "      <td>OA</td>\n",
       "      <td>Séries temporelles annuelles</td>\n",
       "      <td>2</td>\n",
       "      <td>Afghanistan</td>\n",
       "      <td>511</td>\n",
       "      <td>Population totale</td>\n",
       "      <td>3010</td>\n",
       "      <td>Population-Estimations</td>\n",
       "      <td>2001</td>\n",
       "      <td>2001</td>\n",
       "      <td>1000 personnes</td>\n",
       "      <td>21606.988</td>\n",
       "      <td>X</td>\n",
       "      <td>Sources internationales sûres</td>\n",
       "      <td>NaN</td>\n",
       "    </tr>\n",
       "    <tr>\n",
       "      <th>2</th>\n",
       "      <td>OA</td>\n",
       "      <td>Séries temporelles annuelles</td>\n",
       "      <td>2</td>\n",
       "      <td>Afghanistan</td>\n",
       "      <td>511</td>\n",
       "      <td>Population totale</td>\n",
       "      <td>3010</td>\n",
       "      <td>Population-Estimations</td>\n",
       "      <td>2002</td>\n",
       "      <td>2002</td>\n",
       "      <td>1000 personnes</td>\n",
       "      <td>22600.770</td>\n",
       "      <td>X</td>\n",
       "      <td>Sources internationales sûres</td>\n",
       "      <td>NaN</td>\n",
       "    </tr>\n",
       "    <tr>\n",
       "      <th>3</th>\n",
       "      <td>OA</td>\n",
       "      <td>Séries temporelles annuelles</td>\n",
       "      <td>2</td>\n",
       "      <td>Afghanistan</td>\n",
       "      <td>511</td>\n",
       "      <td>Population totale</td>\n",
       "      <td>3010</td>\n",
       "      <td>Population-Estimations</td>\n",
       "      <td>2003</td>\n",
       "      <td>2003</td>\n",
       "      <td>1000 personnes</td>\n",
       "      <td>23680.871</td>\n",
       "      <td>X</td>\n",
       "      <td>Sources internationales sûres</td>\n",
       "      <td>NaN</td>\n",
       "    </tr>\n",
       "    <tr>\n",
       "      <th>4</th>\n",
       "      <td>OA</td>\n",
       "      <td>Séries temporelles annuelles</td>\n",
       "      <td>2</td>\n",
       "      <td>Afghanistan</td>\n",
       "      <td>511</td>\n",
       "      <td>Population totale</td>\n",
       "      <td>3010</td>\n",
       "      <td>Population-Estimations</td>\n",
       "      <td>2004</td>\n",
       "      <td>2004</td>\n",
       "      <td>1000 personnes</td>\n",
       "      <td>24726.684</td>\n",
       "      <td>X</td>\n",
       "      <td>Sources internationales sûres</td>\n",
       "      <td>NaN</td>\n",
       "    </tr>\n",
       "  </tbody>\n",
       "</table>\n",
       "</div>"
      ],
      "text/plain": [
       "  Code Domaine                       Domaine  Code zone         Zone  \\\n",
       "0           OA  Séries temporelles annuelles          2  Afghanistan   \n",
       "1           OA  Séries temporelles annuelles          2  Afghanistan   \n",
       "2           OA  Séries temporelles annuelles          2  Afghanistan   \n",
       "3           OA  Séries temporelles annuelles          2  Afghanistan   \n",
       "4           OA  Séries temporelles annuelles          2  Afghanistan   \n",
       "\n",
       "   Code Élément            Élément  Code Produit                 Produit  \\\n",
       "0           511  Population totale          3010  Population-Estimations   \n",
       "1           511  Population totale          3010  Population-Estimations   \n",
       "2           511  Population totale          3010  Population-Estimations   \n",
       "3           511  Population totale          3010  Population-Estimations   \n",
       "4           511  Population totale          3010  Population-Estimations   \n",
       "\n",
       "   Code année  Année           Unité     Valeur Symbole  \\\n",
       "0        2000   2000  1000 personnes  20779.953       X   \n",
       "1        2001   2001  1000 personnes  21606.988       X   \n",
       "2        2002   2002  1000 personnes  22600.770       X   \n",
       "3        2003   2003  1000 personnes  23680.871       X   \n",
       "4        2004   2004  1000 personnes  24726.684       X   \n",
       "\n",
       "          Description du Symbole Note  \n",
       "0  Sources internationales sûres  NaN  \n",
       "1  Sources internationales sûres  NaN  \n",
       "2  Sources internationales sûres  NaN  \n",
       "3  Sources internationales sûres  NaN  \n",
       "4  Sources internationales sûres  NaN  "
      ]
     },
     "execution_count": 4584,
     "metadata": {},
     "output_type": "execute_result"
    }
   ],
   "source": [
    "population_df.head()"
   ]
  },
  {
   "attachments": {},
   "cell_type": "markdown",
   "metadata": {},
   "source": [
    "On ne conserve que le pays, la valeur de population et l'année "
   ]
  },
  {
   "cell_type": "code",
   "execution_count": 4585,
   "metadata": {},
   "outputs": [],
   "source": [
    "population_df = pd.DataFrame({'Pays' : population_df.Zone, 'Année' : population_df['Année'],'Population' : population_df.Valeur *1000})"
   ]
  },
  {
   "attachments": {},
   "cell_type": "markdown",
   "metadata": {},
   "source": [
    "On ne conserve l'année 2017 et on supprime la colonne année"
   ]
  },
  {
   "cell_type": "code",
   "execution_count": 4586,
   "metadata": {},
   "outputs": [
    {
     "data": {
      "text/html": [
       "<div>\n",
       "<style scoped>\n",
       "    .dataframe tbody tr th:only-of-type {\n",
       "        vertical-align: middle;\n",
       "    }\n",
       "\n",
       "    .dataframe tbody tr th {\n",
       "        vertical-align: top;\n",
       "    }\n",
       "\n",
       "    .dataframe thead th {\n",
       "        text-align: right;\n",
       "    }\n",
       "</style>\n",
       "<table border=\"1\" class=\"dataframe\">\n",
       "  <thead>\n",
       "    <tr style=\"text-align: right;\">\n",
       "      <th></th>\n",
       "      <th>Pays</th>\n",
       "      <th>Population</th>\n",
       "    </tr>\n",
       "  </thead>\n",
       "  <tbody>\n",
       "    <tr>\n",
       "      <th>17</th>\n",
       "      <td>Afghanistan</td>\n",
       "      <td>36296113.0</td>\n",
       "    </tr>\n",
       "    <tr>\n",
       "      <th>36</th>\n",
       "      <td>Afrique du Sud</td>\n",
       "      <td>57009756.0</td>\n",
       "    </tr>\n",
       "    <tr>\n",
       "      <th>55</th>\n",
       "      <td>Albanie</td>\n",
       "      <td>2884169.0</td>\n",
       "    </tr>\n",
       "    <tr>\n",
       "      <th>74</th>\n",
       "      <td>Algérie</td>\n",
       "      <td>41389189.0</td>\n",
       "    </tr>\n",
       "    <tr>\n",
       "      <th>93</th>\n",
       "      <td>Allemagne</td>\n",
       "      <td>82658409.0</td>\n",
       "    </tr>\n",
       "  </tbody>\n",
       "</table>\n",
       "</div>"
      ],
      "text/plain": [
       "              Pays  Population\n",
       "17     Afghanistan  36296113.0\n",
       "36  Afrique du Sud  57009756.0\n",
       "55         Albanie   2884169.0\n",
       "74         Algérie  41389189.0\n",
       "93       Allemagne  82658409.0"
      ]
     },
     "execution_count": 4586,
     "metadata": {},
     "output_type": "execute_result"
    }
   ],
   "source": [
    "population_df = population_df[population_df['Année']== 2017]\n",
    "population_df = population_df.drop(columns=['Année'])\n",
    "population_df.head()"
   ]
  },
  {
   "attachments": {},
   "cell_type": "markdown",
   "metadata": {},
   "source": [
    "## 3.6 Table Économique\n",
    "--------------------------------------"
   ]
  },
  {
   "cell_type": "code",
   "execution_count": 4587,
   "metadata": {},
   "outputs": [
    {
     "data": {
      "text/html": [
       "<div>\n",
       "<style scoped>\n",
       "    .dataframe tbody tr th:only-of-type {\n",
       "        vertical-align: middle;\n",
       "    }\n",
       "\n",
       "    .dataframe tbody tr th {\n",
       "        vertical-align: top;\n",
       "    }\n",
       "\n",
       "    .dataframe thead th {\n",
       "        text-align: right;\n",
       "    }\n",
       "</style>\n",
       "<table border=\"1\" class=\"dataframe\">\n",
       "  <thead>\n",
       "    <tr style=\"text-align: right;\">\n",
       "      <th></th>\n",
       "      <th>Code Domaine</th>\n",
       "      <th>Domaine</th>\n",
       "      <th>Code zone (M49)</th>\n",
       "      <th>Zone</th>\n",
       "      <th>Code Élément</th>\n",
       "      <th>Élément</th>\n",
       "      <th>Code Produit</th>\n",
       "      <th>Produit</th>\n",
       "      <th>Code année</th>\n",
       "      <th>Année</th>\n",
       "      <th>Unité</th>\n",
       "      <th>Valeur</th>\n",
       "      <th>Symbole</th>\n",
       "      <th>Description du Symbole</th>\n",
       "      <th>Note</th>\n",
       "    </tr>\n",
       "  </thead>\n",
       "  <tbody>\n",
       "    <tr>\n",
       "      <th>0</th>\n",
       "      <td>MK</td>\n",
       "      <td>Indicateurs macro</td>\n",
       "      <td>4</td>\n",
       "      <td>Afghanistan</td>\n",
       "      <td>6110</td>\n",
       "      <td>Valeur US $</td>\n",
       "      <td>22008</td>\n",
       "      <td>Produit Intérieur Brut</td>\n",
       "      <td>2017</td>\n",
       "      <td>2017</td>\n",
       "      <td>millions</td>\n",
       "      <td>1.889635e+04</td>\n",
       "      <td>X</td>\n",
       "      <td>Ciffre de sources internationales</td>\n",
       "      <td>NaN</td>\n",
       "    </tr>\n",
       "    <tr>\n",
       "      <th>1</th>\n",
       "      <td>MK</td>\n",
       "      <td>Indicateurs macro</td>\n",
       "      <td>710</td>\n",
       "      <td>Afrique du Sud</td>\n",
       "      <td>6110</td>\n",
       "      <td>Valeur US $</td>\n",
       "      <td>22008</td>\n",
       "      <td>Produit Intérieur Brut</td>\n",
       "      <td>2017</td>\n",
       "      <td>2017</td>\n",
       "      <td>millions</td>\n",
       "      <td>3.490067e+05</td>\n",
       "      <td>X</td>\n",
       "      <td>Ciffre de sources internationales</td>\n",
       "      <td>NaN</td>\n",
       "    </tr>\n",
       "    <tr>\n",
       "      <th>2</th>\n",
       "      <td>MK</td>\n",
       "      <td>Indicateurs macro</td>\n",
       "      <td>8</td>\n",
       "      <td>Albanie</td>\n",
       "      <td>6110</td>\n",
       "      <td>Valeur US $</td>\n",
       "      <td>22008</td>\n",
       "      <td>Produit Intérieur Brut</td>\n",
       "      <td>2017</td>\n",
       "      <td>2017</td>\n",
       "      <td>millions</td>\n",
       "      <td>1.301973e+04</td>\n",
       "      <td>X</td>\n",
       "      <td>Ciffre de sources internationales</td>\n",
       "      <td>NaN</td>\n",
       "    </tr>\n",
       "    <tr>\n",
       "      <th>3</th>\n",
       "      <td>MK</td>\n",
       "      <td>Indicateurs macro</td>\n",
       "      <td>12</td>\n",
       "      <td>Algérie</td>\n",
       "      <td>6110</td>\n",
       "      <td>Valeur US $</td>\n",
       "      <td>22008</td>\n",
       "      <td>Produit Intérieur Brut</td>\n",
       "      <td>2017</td>\n",
       "      <td>2017</td>\n",
       "      <td>millions</td>\n",
       "      <td>1.700970e+05</td>\n",
       "      <td>X</td>\n",
       "      <td>Ciffre de sources internationales</td>\n",
       "      <td>NaN</td>\n",
       "    </tr>\n",
       "    <tr>\n",
       "      <th>4</th>\n",
       "      <td>MK</td>\n",
       "      <td>Indicateurs macro</td>\n",
       "      <td>276</td>\n",
       "      <td>Allemagne</td>\n",
       "      <td>6110</td>\n",
       "      <td>Valeur US $</td>\n",
       "      <td>22008</td>\n",
       "      <td>Produit Intérieur Brut</td>\n",
       "      <td>2017</td>\n",
       "      <td>2017</td>\n",
       "      <td>millions</td>\n",
       "      <td>3.690849e+06</td>\n",
       "      <td>X</td>\n",
       "      <td>Ciffre de sources internationales</td>\n",
       "      <td>NaN</td>\n",
       "    </tr>\n",
       "  </tbody>\n",
       "</table>\n",
       "</div>"
      ],
      "text/plain": [
       "  Code Domaine            Domaine  Code zone (M49)            Zone  \\\n",
       "0           MK  Indicateurs macro                4     Afghanistan   \n",
       "1           MK  Indicateurs macro              710  Afrique du Sud   \n",
       "2           MK  Indicateurs macro                8         Albanie   \n",
       "3           MK  Indicateurs macro               12         Algérie   \n",
       "4           MK  Indicateurs macro              276       Allemagne   \n",
       "\n",
       "   Code Élément      Élément  Code Produit                 Produit  \\\n",
       "0          6110  Valeur US $         22008  Produit Intérieur Brut   \n",
       "1          6110  Valeur US $         22008  Produit Intérieur Brut   \n",
       "2          6110  Valeur US $         22008  Produit Intérieur Brut   \n",
       "3          6110  Valeur US $         22008  Produit Intérieur Brut   \n",
       "4          6110  Valeur US $         22008  Produit Intérieur Brut   \n",
       "\n",
       "   Code année  Année     Unité        Valeur Symbole  \\\n",
       "0        2017   2017  millions  1.889635e+04       X   \n",
       "1        2017   2017  millions  3.490067e+05       X   \n",
       "2        2017   2017  millions  1.301973e+04       X   \n",
       "3        2017   2017  millions  1.700970e+05       X   \n",
       "4        2017   2017  millions  3.690849e+06       X   \n",
       "\n",
       "              Description du Symbole  Note  \n",
       "0  Ciffre de sources internationales   NaN  \n",
       "1  Ciffre de sources internationales   NaN  \n",
       "2  Ciffre de sources internationales   NaN  \n",
       "3  Ciffre de sources internationales   NaN  \n",
       "4  Ciffre de sources internationales   NaN  "
      ]
     },
     "execution_count": 4587,
     "metadata": {},
     "output_type": "execute_result"
    }
   ],
   "source": [
    "eco_df.head()"
   ]
  },
  {
   "attachments": {},
   "cell_type": "markdown",
   "metadata": {},
   "source": [
    "On ne conserve que le pays et la colonne Valeur qui correspond au produit intérieur brut en dollars"
   ]
  },
  {
   "cell_type": "code",
   "execution_count": 4588,
   "metadata": {},
   "outputs": [
    {
     "data": {
      "text/html": [
       "<div>\n",
       "<style scoped>\n",
       "    .dataframe tbody tr th:only-of-type {\n",
       "        vertical-align: middle;\n",
       "    }\n",
       "\n",
       "    .dataframe tbody tr th {\n",
       "        vertical-align: top;\n",
       "    }\n",
       "\n",
       "    .dataframe thead th {\n",
       "        text-align: right;\n",
       "    }\n",
       "</style>\n",
       "<table border=\"1\" class=\"dataframe\">\n",
       "  <thead>\n",
       "    <tr style=\"text-align: right;\">\n",
       "      <th></th>\n",
       "      <th>Pays</th>\n",
       "      <th>Produit intérieur brut en dollars</th>\n",
       "    </tr>\n",
       "  </thead>\n",
       "  <tbody>\n",
       "    <tr>\n",
       "      <th>0</th>\n",
       "      <td>Afghanistan</td>\n",
       "      <td>1.889635e+10</td>\n",
       "    </tr>\n",
       "    <tr>\n",
       "      <th>1</th>\n",
       "      <td>Afrique du Sud</td>\n",
       "      <td>3.490067e+11</td>\n",
       "    </tr>\n",
       "    <tr>\n",
       "      <th>2</th>\n",
       "      <td>Albanie</td>\n",
       "      <td>1.301973e+10</td>\n",
       "    </tr>\n",
       "    <tr>\n",
       "      <th>3</th>\n",
       "      <td>Algérie</td>\n",
       "      <td>1.700970e+11</td>\n",
       "    </tr>\n",
       "    <tr>\n",
       "      <th>4</th>\n",
       "      <td>Allemagne</td>\n",
       "      <td>3.690849e+12</td>\n",
       "    </tr>\n",
       "  </tbody>\n",
       "</table>\n",
       "</div>"
      ],
      "text/plain": [
       "             Pays  Produit intérieur brut en dollars\n",
       "0     Afghanistan                       1.889635e+10\n",
       "1  Afrique du Sud                       3.490067e+11\n",
       "2         Albanie                       1.301973e+10\n",
       "3         Algérie                       1.700970e+11\n",
       "4       Allemagne                       3.690849e+12"
      ]
     },
     "execution_count": 4588,
     "metadata": {},
     "output_type": "execute_result"
    }
   ],
   "source": [
    "eco_df = pd.DataFrame({'Pays' : eco_df.Zone, 'Produit intérieur brut en dollars' : eco_df.Valeur *pow(10,6)})\n",
    "\n",
    "eco_df.head()\n"
   ]
  },
  {
   "attachments": {},
   "cell_type": "markdown",
   "metadata": {},
   "source": [
    "On couple les table de popuylation et économique"
   ]
  },
  {
   "cell_type": "code",
   "execution_count": 4589,
   "metadata": {},
   "outputs": [
    {
     "data": {
      "text/html": [
       "<div>\n",
       "<style scoped>\n",
       "    .dataframe tbody tr th:only-of-type {\n",
       "        vertical-align: middle;\n",
       "    }\n",
       "\n",
       "    .dataframe tbody tr th {\n",
       "        vertical-align: top;\n",
       "    }\n",
       "\n",
       "    .dataframe thead th {\n",
       "        text-align: right;\n",
       "    }\n",
       "</style>\n",
       "<table border=\"1\" class=\"dataframe\">\n",
       "  <thead>\n",
       "    <tr style=\"text-align: right;\">\n",
       "      <th></th>\n",
       "      <th>Pays</th>\n",
       "      <th>Produit intérieur brut en dollars</th>\n",
       "      <th>Population</th>\n",
       "    </tr>\n",
       "  </thead>\n",
       "  <tbody>\n",
       "    <tr>\n",
       "      <th>0</th>\n",
       "      <td>Afghanistan</td>\n",
       "      <td>1.889635e+10</td>\n",
       "      <td>36296113.0</td>\n",
       "    </tr>\n",
       "    <tr>\n",
       "      <th>1</th>\n",
       "      <td>Afrique du Sud</td>\n",
       "      <td>3.490067e+11</td>\n",
       "      <td>57009756.0</td>\n",
       "    </tr>\n",
       "    <tr>\n",
       "      <th>2</th>\n",
       "      <td>Albanie</td>\n",
       "      <td>1.301973e+10</td>\n",
       "      <td>2884169.0</td>\n",
       "    </tr>\n",
       "    <tr>\n",
       "      <th>3</th>\n",
       "      <td>Algérie</td>\n",
       "      <td>1.700970e+11</td>\n",
       "      <td>41389189.0</td>\n",
       "    </tr>\n",
       "    <tr>\n",
       "      <th>4</th>\n",
       "      <td>Allemagne</td>\n",
       "      <td>3.690849e+12</td>\n",
       "      <td>82658409.0</td>\n",
       "    </tr>\n",
       "    <tr>\n",
       "      <th>...</th>\n",
       "      <td>...</td>\n",
       "      <td>...</td>\n",
       "      <td>...</td>\n",
       "    </tr>\n",
       "    <tr>\n",
       "      <th>207</th>\n",
       "      <td>Viet Nam</td>\n",
       "      <td>2.237799e+11</td>\n",
       "      <td>94600648.0</td>\n",
       "    </tr>\n",
       "    <tr>\n",
       "      <th>208</th>\n",
       "      <td>Yémen</td>\n",
       "      <td>2.073938e+10</td>\n",
       "      <td>27834819.0</td>\n",
       "    </tr>\n",
       "    <tr>\n",
       "      <th>209</th>\n",
       "      <td>Zambie</td>\n",
       "      <td>2.586816e+10</td>\n",
       "      <td>16853599.0</td>\n",
       "    </tr>\n",
       "    <tr>\n",
       "      <th>210</th>\n",
       "      <td>Zimbabwe</td>\n",
       "      <td>2.204090e+10</td>\n",
       "      <td>14236595.0</td>\n",
       "    </tr>\n",
       "    <tr>\n",
       "      <th>211</th>\n",
       "      <td>Chine, Taiwan Province de</td>\n",
       "      <td>5.749000e+11</td>\n",
       "      <td>23674546.0</td>\n",
       "    </tr>\n",
       "  </tbody>\n",
       "</table>\n",
       "<p>212 rows × 3 columns</p>\n",
       "</div>"
      ],
      "text/plain": [
       "                          Pays  Produit intérieur brut en dollars  Population\n",
       "0                  Afghanistan                       1.889635e+10  36296113.0\n",
       "1               Afrique du Sud                       3.490067e+11  57009756.0\n",
       "2                      Albanie                       1.301973e+10   2884169.0\n",
       "3                      Algérie                       1.700970e+11  41389189.0\n",
       "4                    Allemagne                       3.690849e+12  82658409.0\n",
       "..                         ...                                ...         ...\n",
       "207                   Viet Nam                       2.237799e+11  94600648.0\n",
       "208                      Yémen                       2.073938e+10  27834819.0\n",
       "209                     Zambie                       2.586816e+10  16853599.0\n",
       "210                   Zimbabwe                       2.204090e+10  14236595.0\n",
       "211  Chine, Taiwan Province de                       5.749000e+11  23674546.0\n",
       "\n",
       "[212 rows x 3 columns]"
      ]
     },
     "metadata": {},
     "output_type": "display_data"
    }
   ],
   "source": [
    "eco_df = pd.merge(eco_df,population_df,how='left', on = 'Pays')\n",
    "\n",
    "display(eco_df)"
   ]
  },
  {
   "attachments": {},
   "cell_type": "markdown",
   "metadata": {},
   "source": [
    "On créé la colonne PIB/habitant et supprime les colonne précédentes"
   ]
  },
  {
   "cell_type": "code",
   "execution_count": 4590,
   "metadata": {},
   "outputs": [
    {
     "data": {
      "text/html": [
       "<div>\n",
       "<style scoped>\n",
       "    .dataframe tbody tr th:only-of-type {\n",
       "        vertical-align: middle;\n",
       "    }\n",
       "\n",
       "    .dataframe tbody tr th {\n",
       "        vertical-align: top;\n",
       "    }\n",
       "\n",
       "    .dataframe thead th {\n",
       "        text-align: right;\n",
       "    }\n",
       "</style>\n",
       "<table border=\"1\" class=\"dataframe\">\n",
       "  <thead>\n",
       "    <tr style=\"text-align: right;\">\n",
       "      <th></th>\n",
       "      <th>Pays</th>\n",
       "      <th>PIB/habitant</th>\n",
       "    </tr>\n",
       "  </thead>\n",
       "  <tbody>\n",
       "    <tr>\n",
       "      <th>0</th>\n",
       "      <td>Afghanistan</td>\n",
       "      <td>520.616409</td>\n",
       "    </tr>\n",
       "    <tr>\n",
       "      <th>1</th>\n",
       "      <td>Afrique du Sud</td>\n",
       "      <td>6121.876572</td>\n",
       "    </tr>\n",
       "    <tr>\n",
       "      <th>2</th>\n",
       "      <td>Albanie</td>\n",
       "      <td>4514.204908</td>\n",
       "    </tr>\n",
       "    <tr>\n",
       "      <th>3</th>\n",
       "      <td>Algérie</td>\n",
       "      <td>4109.696001</td>\n",
       "    </tr>\n",
       "    <tr>\n",
       "      <th>4</th>\n",
       "      <td>Allemagne</td>\n",
       "      <td>44651.829102</td>\n",
       "    </tr>\n",
       "  </tbody>\n",
       "</table>\n",
       "</div>"
      ],
      "text/plain": [
       "             Pays  PIB/habitant\n",
       "0     Afghanistan    520.616409\n",
       "1  Afrique du Sud   6121.876572\n",
       "2         Albanie   4514.204908\n",
       "3         Algérie   4109.696001\n",
       "4       Allemagne  44651.829102"
      ]
     },
     "execution_count": 4590,
     "metadata": {},
     "output_type": "execute_result"
    }
   ],
   "source": [
    "eco_df['PIB/habitant'] = eco_df['Produit intérieur brut en dollars']/eco_df['Population']\n",
    "eco_df = eco_df.drop(columns=['Population','Produit intérieur brut en dollars'])\n",
    "eco_df.head()"
   ]
  },
  {
   "attachments": {},
   "cell_type": "markdown",
   "metadata": {},
   "source": [
    "# 4. Fusion des tables précédemment créé\n",
    "---------------------------------------"
   ]
  },
  {
   "attachments": {},
   "cell_type": "markdown",
   "metadata": {},
   "source": [
    "On s'intéresse aux dimensions des tables initiales"
   ]
  },
  {
   "cell_type": "code",
   "execution_count": 4591,
   "metadata": {},
   "outputs": [
    {
     "data": {
      "text/plain": [
       "(244, 2)"
      ]
     },
     "execution_count": 4591,
     "metadata": {},
     "output_type": "execute_result"
    }
   ],
   "source": [
    "coordinates_df.shape"
   ]
  },
  {
   "cell_type": "code",
   "execution_count": 4592,
   "metadata": {},
   "outputs": [
    {
     "data": {
      "text/plain": [
       "(177, 2)"
      ]
     },
     "execution_count": 4592,
     "metadata": {},
     "output_type": "execute_result"
    }
   ],
   "source": [
    "political_stability_df.shape"
   ]
  },
  {
   "cell_type": "code",
   "execution_count": 4593,
   "metadata": {},
   "outputs": [
    {
     "data": {
      "text/plain": [
       "(200, 2)"
      ]
     },
     "execution_count": 4593,
     "metadata": {},
     "output_type": "execute_result"
    }
   ],
   "source": [
    "languages_df.shape"
   ]
  },
  {
   "cell_type": "code",
   "execution_count": 4594,
   "metadata": {},
   "outputs": [
    {
     "data": {
      "text/plain": [
       "(170, 3)"
      ]
     },
     "execution_count": 4594,
     "metadata": {},
     "output_type": "execute_result"
    }
   ],
   "source": [
    "food_availability_df.shape"
   ]
  },
  {
   "cell_type": "code",
   "execution_count": 4595,
   "metadata": {},
   "outputs": [
    {
     "data": {
      "text/plain": [
       "(212, 2)"
      ]
     },
     "execution_count": 4595,
     "metadata": {},
     "output_type": "execute_result"
    }
   ],
   "source": [
    "eco_df.shape"
   ]
  },
  {
   "attachments": {},
   "cell_type": "markdown",
   "metadata": {},
   "source": [
    "On lie la table des distance (coordonnées) avec la table de nourriture au sein de notre table finale avec pour référentiel la table de nourriture."
   ]
  },
  {
   "cell_type": "code",
   "execution_count": 4596,
   "metadata": {},
   "outputs": [
    {
     "data": {
      "text/plain": [
       "(170, 4)"
      ]
     },
     "execution_count": 4596,
     "metadata": {},
     "output_type": "execute_result"
    }
   ],
   "source": [
    "final_df = pd.merge(food_availability_df,coordinates_df,how='left',on='Pays')\n",
    "final_df.shape\n"
   ]
  },
  {
   "attachments": {},
   "cell_type": "markdown",
   "metadata": {},
   "source": [
    "On lie ensuite la table finale avec la table de stabilité politique."
   ]
  },
  {
   "cell_type": "code",
   "execution_count": 4597,
   "metadata": {},
   "outputs": [
    {
     "data": {
      "text/plain": [
       "(170, 5)"
      ]
     },
     "execution_count": 4597,
     "metadata": {},
     "output_type": "execute_result"
    }
   ],
   "source": [
    "final_df = pd.merge(final_df,political_stability_df,how='left',on='Pays')\n",
    "final_df.shape"
   ]
  },
  {
   "attachments": {},
   "cell_type": "markdown",
   "metadata": {},
   "source": [
    "Nous lions la table finale avec la table des langues."
   ]
  },
  {
   "cell_type": "code",
   "execution_count": 4598,
   "metadata": {},
   "outputs": [
    {
     "data": {
      "text/plain": [
       "(170, 6)"
      ]
     },
     "execution_count": 4598,
     "metadata": {},
     "output_type": "execute_result"
    }
   ],
   "source": [
    "final_df = pd.merge(final_df,eco_df,how='left',on='Pays')\n",
    "final_df.shape"
   ]
  },
  {
   "attachments": {},
   "cell_type": "markdown",
   "metadata": {},
   "source": [
    "\n",
    "On lie enfin la table économique avec la table de finale"
   ]
  },
  {
   "cell_type": "code",
   "execution_count": 4599,
   "metadata": {},
   "outputs": [
    {
     "data": {
      "text/plain": [
       "(170, 7)"
      ]
     },
     "execution_count": 4599,
     "metadata": {},
     "output_type": "execute_result"
    }
   ],
   "source": [
    "final_df = pd.merge(final_df,languages_df,how='left',on='Pays')\n",
    "final_df.shape"
   ]
  },
  {
   "attachments": {},
   "cell_type": "markdown",
   "metadata": {},
   "source": [
    "# 5. Traitement des données manquants\n",
    "-----------------------------------------------"
   ]
  },
  {
   "cell_type": "code",
   "execution_count": 4600,
   "metadata": {},
   "outputs": [
    {
     "name": "stdout",
     "output_type": "stream",
     "text": [
      "<class 'pandas.core.frame.DataFrame'>\n",
      "Int64Index: 170 entries, 0 to 169\n",
      "Data columns (total 7 columns):\n",
      " #   Column                Non-Null Count  Dtype  \n",
      "---  ------                --------------  -----  \n",
      " 0   Pays                  170 non-null    object \n",
      " 1   Production            168 non-null    float64\n",
      " 2   Taux importation      170 non-null    float64\n",
      " 3   Distance à la France  170 non-null    float64\n",
      " 4   Stabilité politique   155 non-null    float64\n",
      " 5   PIB/habitant          170 non-null    float64\n",
      " 6   langue courante       170 non-null    object \n",
      "dtypes: float64(5), object(2)\n",
      "memory usage: 10.6+ KB\n"
     ]
    }
   ],
   "source": [
    "final_df.info()"
   ]
  },
  {
   "attachments": {},
   "cell_type": "markdown",
   "metadata": {},
   "source": [
    "Les valeurs manquantes dans la colonne stabilité politique sont remplacées par la moyenne de la stabilité politique mondiale"
   ]
  },
  {
   "attachments": {},
   "cell_type": "markdown",
   "metadata": {},
   "source": [
    "On ne peut appliquer de formule sur des données qualitative on exclu"
   ]
  },
  {
   "cell_type": "code",
   "execution_count": 4601,
   "metadata": {},
   "outputs": [],
   "source": [
    "final_df['Stabilité politique'] = final_df['Stabilité politique'].replace(np.nan,final_df['Stabilité politique'].mean())\n",
    "\n"
   ]
  },
  {
   "cell_type": "code",
   "execution_count": 4602,
   "metadata": {},
   "outputs": [
    {
     "name": "stdout",
     "output_type": "stream",
     "text": [
      "<class 'pandas.core.frame.DataFrame'>\n",
      "Int64Index: 170 entries, 0 to 169\n",
      "Data columns (total 7 columns):\n",
      " #   Column                Non-Null Count  Dtype  \n",
      "---  ------                --------------  -----  \n",
      " 0   Pays                  170 non-null    object \n",
      " 1   Production            168 non-null    float64\n",
      " 2   Taux importation      170 non-null    float64\n",
      " 3   Distance à la France  170 non-null    float64\n",
      " 4   Stabilité politique   170 non-null    float64\n",
      " 5   PIB/habitant          170 non-null    float64\n",
      " 6   langue courante       170 non-null    object \n",
      "dtypes: float64(5), object(2)\n",
      "memory usage: 10.6+ KB\n"
     ]
    }
   ],
   "source": [
    "final_df.info()"
   ]
  },
  {
   "cell_type": "code",
   "execution_count": 4603,
   "metadata": {},
   "outputs": [
    {
     "data": {
      "text/html": [
       "<div>\n",
       "<style scoped>\n",
       "    .dataframe tbody tr th:only-of-type {\n",
       "        vertical-align: middle;\n",
       "    }\n",
       "\n",
       "    .dataframe tbody tr th {\n",
       "        vertical-align: top;\n",
       "    }\n",
       "\n",
       "    .dataframe thead th {\n",
       "        text-align: right;\n",
       "    }\n",
       "</style>\n",
       "<table border=\"1\" class=\"dataframe\">\n",
       "  <thead>\n",
       "    <tr style=\"text-align: right;\">\n",
       "      <th></th>\n",
       "      <th>Pays</th>\n",
       "      <th>Production</th>\n",
       "      <th>Taux importation</th>\n",
       "      <th>Distance à la France</th>\n",
       "      <th>Stabilité politique</th>\n",
       "      <th>PIB/habitant</th>\n",
       "      <th>langue courante</th>\n",
       "    </tr>\n",
       "  </thead>\n",
       "  <tbody>\n",
       "  </tbody>\n",
       "</table>\n",
       "</div>"
      ],
      "text/plain": [
       "Empty DataFrame\n",
       "Columns: [Pays, Production, Taux importation, Distance à la France, Stabilité politique, PIB/habitant, langue courante]\n",
       "Index: []"
      ]
     },
     "metadata": {},
     "output_type": "display_data"
    }
   ],
   "source": [
    "display(final_df[final_df['Taux importation'].isna()])"
   ]
  },
  {
   "attachments": {},
   "cell_type": "markdown",
   "metadata": {},
   "source": [
    "Nous prenons la moyenne de notre échantillon pour les taux d'imporation manquants"
   ]
  },
  {
   "cell_type": "code",
   "execution_count": 4604,
   "metadata": {},
   "outputs": [],
   "source": [
    "final_df['Taux importation'] = final_df['Taux importation'].replace(np.nan,final_df['Taux importation'].mean())"
   ]
  },
  {
   "cell_type": "code",
   "execution_count": 4605,
   "metadata": {},
   "outputs": [
    {
     "name": "stdout",
     "output_type": "stream",
     "text": [
      "<class 'pandas.core.frame.DataFrame'>\n",
      "Int64Index: 170 entries, 0 to 169\n",
      "Data columns (total 7 columns):\n",
      " #   Column                Non-Null Count  Dtype  \n",
      "---  ------                --------------  -----  \n",
      " 0   Pays                  170 non-null    object \n",
      " 1   Production            168 non-null    float64\n",
      " 2   Taux importation      170 non-null    float64\n",
      " 3   Distance à la France  170 non-null    float64\n",
      " 4   Stabilité politique   170 non-null    float64\n",
      " 5   PIB/habitant          170 non-null    float64\n",
      " 6   langue courante       170 non-null    object \n",
      "dtypes: float64(5), object(2)\n",
      "memory usage: 10.6+ KB\n"
     ]
    }
   ],
   "source": [
    "final_df.info()"
   ]
  },
  {
   "cell_type": "code",
   "execution_count": 4606,
   "metadata": {},
   "outputs": [],
   "source": [
    "final_df['Production'] = final_df['Production'].replace(np.nan,final_df['Production'].mean())"
   ]
  },
  {
   "attachments": {},
   "cell_type": "markdown",
   "metadata": {},
   "source": [
    "On exclut la France de l'analyse"
   ]
  },
  {
   "cell_type": "code",
   "execution_count": 4607,
   "metadata": {},
   "outputs": [],
   "source": [
    "final_df = final_df[final_df['Pays']!= 'France']"
   ]
  },
  {
   "attachments": {},
   "cell_type": "markdown",
   "metadata": {},
   "source": [
    "Toutes les données sont maintenant remplies"
   ]
  },
  {
   "attachments": {},
   "cell_type": "markdown",
   "metadata": {},
   "source": [
    "# 6. Enregistrement de notre fichier en format csv\n",
    "----------------------------------------"
   ]
  },
  {
   "cell_type": "code",
   "execution_count": 4608,
   "metadata": {},
   "outputs": [],
   "source": [
    "final_df.to_csv(PATH+'final_df.csv',index=False)"
   ]
  }
 ],
 "metadata": {
  "kernelspec": {
   "display_name": ".venv",
   "language": "python",
   "name": "python3"
  },
  "language_info": {
   "codemirror_mode": {
    "name": "ipython",
    "version": 3
   },
   "file_extension": ".py",
   "mimetype": "text/x-python",
   "name": "python",
   "nbconvert_exporter": "python",
   "pygments_lexer": "ipython3",
   "version": "3.10.0 (default, Nov 25 2022, 18:00:40) [GCC 11.3.0]"
  },
  "orig_nbformat": 4,
  "vscode": {
   "interpreter": {
    "hash": "365c2d804c02730ade03b85b4712b62402091f719b9e8bdcd944f8bc5b10b5e1"
   }
  }
 },
 "nbformat": 4,
 "nbformat_minor": 2
}
