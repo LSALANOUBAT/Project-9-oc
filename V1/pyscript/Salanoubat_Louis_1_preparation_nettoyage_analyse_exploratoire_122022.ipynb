{
 "cells": [
  {
   "cell_type": "markdown",
   "metadata": {},
   "source": [
    "# 1. Importation des librairies"
   ]
  },
  {
   "cell_type": "code",
   "execution_count": 183,
   "metadata": {},
   "outputs": [],
   "source": [
    "import pandas as pd\n",
    "import numpy as np"
   ]
  },
  {
   "cell_type": "markdown",
   "metadata": {},
   "source": [
    "# 2. Importation du dataset"
   ]
  },
  {
   "cell_type": "code",
   "execution_count": 184,
   "metadata": {},
   "outputs": [],
   "source": [
    "data_set_path = '~/project9/V1/dataset/'\n",
    "population_df = pd.read_csv(data_set_path+'population.csv')\n",
    "dispo_alim_df  = pd.read_csv(data_set_path+'dispo-alim.csv')\n",
    "eco_df = pd.read_csv(data_set_path + 'données-eco.csv')"
   ]
  },
  {
   "cell_type": "markdown",
   "metadata": {},
   "source": [
    "# 3. Filtre des années et du type de produit et Suppression des colonnes inutiles"
   ]
  },
  {
   "cell_type": "code",
   "execution_count": 185,
   "metadata": {},
   "outputs": [
    {
     "data": {
      "text/plain": [
       "['Production',\n",
       " 'Importations - Quantité',\n",
       " 'Variation de stock',\n",
       " 'Disponibilité intérieure',\n",
       " 'Pertes',\n",
       " 'Résidus',\n",
       " 'Nourriture',\n",
       " 'Disponibilité alimentaire en quantité (kg/personne/an)',\n",
       " 'Disponibilité alimentaire (Kcal/personne/jour)',\n",
       " 'Disponibilité de protéines en quantité (g/personne/jour)',\n",
       " 'Disponibilité de matière grasse en quantité (g/personne/jour)',\n",
       " 'Exportations - Quantité',\n",
       " 'Alimentation pour touristes',\n",
       " 'Traitement',\n",
       " 'Autres utilisations (non alimentaire)',\n",
       " 'Aliments pour animaux',\n",
       " 'Semences']"
      ]
     },
     "metadata": {},
     "output_type": "display_data"
    }
   ],
   "source": [
    "population_df = pd.DataFrame({'Pays' : population_df.Zone, 'Année' : population_df['Année'],'Population' : population_df.Valeur *1000})\n",
    "population_df = population_df[population_df['Année']== 2017]\n",
    "dispo_alim_df = dispo_alim_df[dispo_alim_df['Produit'].str.contains('Volailles',na= False)]\n",
    "dispo_alim_df = pd.DataFrame({'Pays' : dispo_alim_df.Zone, 'Élément' : dispo_alim_df['Élément'],'Produit' : dispo_alim_df['Produit'], 'Année' : dispo_alim_df['Année'], 'Valeur' : dispo_alim_df['Valeur']})\n",
    "\n",
    "display(dispo_alim_df['Élément'].drop_duplicates().to_list())"
   ]
  },
  {
   "cell_type": "markdown",
   "metadata": {},
   "source": [
    "# 4. Transposition du tableau disponibilité alimentaire"
   ]
  },
  {
   "cell_type": "code",
   "execution_count": 186,
   "metadata": {},
   "outputs": [
    {
     "data": {
      "text/html": [
       "<div>\n",
       "<style scoped>\n",
       "    .dataframe tbody tr th:only-of-type {\n",
       "        vertical-align: middle;\n",
       "    }\n",
       "\n",
       "    .dataframe tbody tr th {\n",
       "        vertical-align: top;\n",
       "    }\n",
       "\n",
       "    .dataframe thead th {\n",
       "        text-align: right;\n",
       "    }\n",
       "</style>\n",
       "<table border=\"1\" class=\"dataframe\">\n",
       "  <thead>\n",
       "    <tr style=\"text-align: right;\">\n",
       "      <th></th>\n",
       "      <th>Pays</th>\n",
       "      <th>Produit</th>\n",
       "      <th>Année</th>\n",
       "      <th>Disponibilité de protéines en quantité (g/personne/jour)</th>\n",
       "    </tr>\n",
       "  </thead>\n",
       "  <tbody>\n",
       "    <tr>\n",
       "      <th>660</th>\n",
       "      <td>Afghanistan</td>\n",
       "      <td>Viande de Volailles</td>\n",
       "      <td>2017</td>\n",
       "      <td>0.54</td>\n",
       "    </tr>\n",
       "    <tr>\n",
       "      <th>1715</th>\n",
       "      <td>Afrique du Sud</td>\n",
       "      <td>Viande de Volailles</td>\n",
       "      <td>2017</td>\n",
       "      <td>14.11</td>\n",
       "    </tr>\n",
       "    <tr>\n",
       "      <th>2722</th>\n",
       "      <td>Albanie</td>\n",
       "      <td>Viande de Volailles</td>\n",
       "      <td>2017</td>\n",
       "      <td>6.26</td>\n",
       "    </tr>\n",
       "    <tr>\n",
       "      <th>3783</th>\n",
       "      <td>Algérie</td>\n",
       "      <td>Viande de Volailles</td>\n",
       "      <td>2017</td>\n",
       "      <td>1.97</td>\n",
       "    </tr>\n",
       "    <tr>\n",
       "      <th>4883</th>\n",
       "      <td>Allemagne</td>\n",
       "      <td>Viande de Volailles</td>\n",
       "      <td>2017</td>\n",
       "      <td>7.96</td>\n",
       "    </tr>\n",
       "    <tr>\n",
       "      <th>...</th>\n",
       "      <td>...</td>\n",
       "      <td>...</td>\n",
       "      <td>...</td>\n",
       "      <td>...</td>\n",
       "    </tr>\n",
       "    <tr>\n",
       "      <th>172339</th>\n",
       "      <td>Venezuela (République bolivarienne du)</td>\n",
       "      <td>Viande de Volailles</td>\n",
       "      <td>2017</td>\n",
       "      <td>7.23</td>\n",
       "    </tr>\n",
       "    <tr>\n",
       "      <th>173398</th>\n",
       "      <td>Viet Nam</td>\n",
       "      <td>Viande de Volailles</td>\n",
       "      <td>2017</td>\n",
       "      <td>4.01</td>\n",
       "    </tr>\n",
       "    <tr>\n",
       "      <th>174327</th>\n",
       "      <td>Yémen</td>\n",
       "      <td>Viande de Volailles</td>\n",
       "      <td>2017</td>\n",
       "      <td>3.04</td>\n",
       "    </tr>\n",
       "    <tr>\n",
       "      <th>175372</th>\n",
       "      <td>Zambie</td>\n",
       "      <td>Viande de Volailles</td>\n",
       "      <td>2017</td>\n",
       "      <td>1.15</td>\n",
       "    </tr>\n",
       "    <tr>\n",
       "      <th>176399</th>\n",
       "      <td>Zimbabwe</td>\n",
       "      <td>Viande de Volailles</td>\n",
       "      <td>2017</td>\n",
       "      <td>1.59</td>\n",
       "    </tr>\n",
       "  </tbody>\n",
       "</table>\n",
       "<p>172 rows × 4 columns</p>\n",
       "</div>"
      ],
      "text/plain": [
       "                                          Pays              Produit  Année  \\\n",
       "660                                Afghanistan  Viande de Volailles   2017   \n",
       "1715                            Afrique du Sud  Viande de Volailles   2017   \n",
       "2722                                   Albanie  Viande de Volailles   2017   \n",
       "3783                                   Algérie  Viande de Volailles   2017   \n",
       "4883                                 Allemagne  Viande de Volailles   2017   \n",
       "...                                        ...                  ...    ...   \n",
       "172339  Venezuela (République bolivarienne du)  Viande de Volailles   2017   \n",
       "173398                                Viet Nam  Viande de Volailles   2017   \n",
       "174327                                   Yémen  Viande de Volailles   2017   \n",
       "175372                                  Zambie  Viande de Volailles   2017   \n",
       "176399                                Zimbabwe  Viande de Volailles   2017   \n",
       "\n",
       "        Disponibilité de protéines en quantité (g/personne/jour)  \n",
       "660                                                  0.54         \n",
       "1715                                                14.11         \n",
       "2722                                                 6.26         \n",
       "3783                                                 1.97         \n",
       "4883                                                 7.96         \n",
       "...                                                   ...         \n",
       "172339                                               7.23         \n",
       "173398                                               4.01         \n",
       "174327                                               3.04         \n",
       "175372                                               1.15         \n",
       "176399                                               1.59         \n",
       "\n",
       "[172 rows x 4 columns]"
      ]
     },
     "metadata": {},
     "output_type": "display_data"
    },
    {
     "data": {
      "text/plain": [
       "['Importations - Quantité',\n",
       " 'Production',\n",
       " 'Disponibilité intérieure',\n",
       " 'Nourriture']"
      ]
     },
     "execution_count": 186,
     "metadata": {},
     "output_type": "execute_result"
    }
   ],
   "source": [
    "usefull_element = ['Importations - Quantité','Production','Disponibilité intérieure','Nourriture']\n",
    "\n",
    "\n",
    "final_df = dispo_alim_df[dispo_alim_df['Élément'] == 'Disponibilité de protéines en quantité (g/personne/jour)']\n",
    "final_df = final_df.drop(columns=['Élément'])\n",
    "final_df = final_df.rename(columns={'Valeur' : 'Disponibilité de protéines en quantité (g/personne/jour)'})\n",
    "\n",
    "display(final_df)\n",
    "def partition(element_tab,dispo_df,final_df):\n",
    "    for x in element_tab:\n",
    "        inter_df = dispo_df[dispo_df['Élément'] == x]\n",
    "        inter_df = inter_df.drop(columns = ['Élément'])\n",
    "        inter_df = inter_df.rename(columns = {'Valeur' : x})\n",
    "        final_df = pd.merge(final_df,inter_df,how='outer',on=['Pays','Produit','Année'])\n",
    "    return final_df\n",
    "\n",
    "final_df = partition(usefull_element,dispo_alim_df,final_df)\n",
    "\n",
    "\n",
    "usefull_element"
   ]
  },
  {
   "cell_type": "markdown",
   "metadata": {},
   "source": [
    "# 5. Fusion population et table disponibilité alimentaire final + mise en avant des pays sans data en disponibilité alimentaire"
   ]
  },
  {
   "cell_type": "code",
   "execution_count": 187,
   "metadata": {},
   "outputs": [],
   "source": [
    "final_df = pd.merge(final_df,population_df,how='outer',on=['Pays','Année'])\n",
    "\n",
    "\n",
    "no_data_alim_df = final_df[final_df['Produit'].isna()]\n",
    "final_df = final_df[final_df['Produit'].notna()]\n",
    "\n"
   ]
  },
  {
   "attachments": {},
   "cell_type": "markdown",
   "metadata": {},
   "source": [
    "# 6. Intégration du PIB"
   ]
  },
  {
   "cell_type": "code",
   "execution_count": 188,
   "metadata": {},
   "outputs": [
    {
     "data": {
      "text/plain": [
       "Index(['Code Domaine', 'Domaine', 'Code zone (M49)', 'Zone', 'Code Élément',\n",
       "       'Élément', 'Code Produit', 'Produit', 'Code année', 'Année', 'Unité',\n",
       "       'Valeur', 'Symbole', 'Description du Symbole', 'Note'],\n",
       "      dtype='object')"
      ]
     },
     "metadata": {},
     "output_type": "display_data"
    }
   ],
   "source": [
    "display(eco_df.columns)\n",
    "\n",
    "eco_df = pd.DataFrame({'Pays' : eco_df.Zone, 'Produit intérieur brut en dollars' : eco_df.Valeur})\n",
    "\n",
    "final_df = pd.merge(final_df,eco_df,how='outer',on=['Pays'])\n"
   ]
  },
  {
   "attachments": {},
   "cell_type": "markdown",
   "metadata": {},
   "source": [
    "# 7. Quick tour des données"
   ]
  },
  {
   "cell_type": "code",
   "execution_count": 189,
   "metadata": {},
   "outputs": [
    {
     "data": {
      "text/html": [
       "<div>\n",
       "<style scoped>\n",
       "    .dataframe tbody tr th:only-of-type {\n",
       "        vertical-align: middle;\n",
       "    }\n",
       "\n",
       "    .dataframe tbody tr th {\n",
       "        vertical-align: top;\n",
       "    }\n",
       "\n",
       "    .dataframe thead th {\n",
       "        text-align: right;\n",
       "    }\n",
       "</style>\n",
       "<table border=\"1\" class=\"dataframe\">\n",
       "  <thead>\n",
       "    <tr style=\"text-align: right;\">\n",
       "      <th></th>\n",
       "      <th>Pays</th>\n",
       "      <th>Produit</th>\n",
       "      <th>Année</th>\n",
       "      <th>Disponibilité de protéines en quantité (g/personne/jour)</th>\n",
       "      <th>Importations - Quantité</th>\n",
       "      <th>Production</th>\n",
       "      <th>Disponibilité intérieure</th>\n",
       "      <th>Nourriture</th>\n",
       "      <th>Population</th>\n",
       "      <th>Produit intérieur brut en dollars</th>\n",
       "    </tr>\n",
       "  </thead>\n",
       "  <tbody>\n",
       "    <tr>\n",
       "      <th>0</th>\n",
       "      <td>Afghanistan</td>\n",
       "      <td>Viande de Volailles</td>\n",
       "      <td>2017.0</td>\n",
       "      <td>0.54</td>\n",
       "      <td>29.0</td>\n",
       "      <td>28.0</td>\n",
       "      <td>57.0</td>\n",
       "      <td>55.0</td>\n",
       "      <td>36296113.0</td>\n",
       "      <td>1.889635e+04</td>\n",
       "    </tr>\n",
       "    <tr>\n",
       "      <th>1</th>\n",
       "      <td>Afrique du Sud</td>\n",
       "      <td>Viande de Volailles</td>\n",
       "      <td>2017.0</td>\n",
       "      <td>14.11</td>\n",
       "      <td>514.0</td>\n",
       "      <td>1667.0</td>\n",
       "      <td>2118.0</td>\n",
       "      <td>2035.0</td>\n",
       "      <td>57009756.0</td>\n",
       "      <td>3.490067e+05</td>\n",
       "    </tr>\n",
       "    <tr>\n",
       "      <th>2</th>\n",
       "      <td>Albanie</td>\n",
       "      <td>Viande de Volailles</td>\n",
       "      <td>2017.0</td>\n",
       "      <td>6.26</td>\n",
       "      <td>38.0</td>\n",
       "      <td>13.0</td>\n",
       "      <td>47.0</td>\n",
       "      <td>47.0</td>\n",
       "      <td>2884169.0</td>\n",
       "      <td>1.301973e+04</td>\n",
       "    </tr>\n",
       "    <tr>\n",
       "      <th>3</th>\n",
       "      <td>Algérie</td>\n",
       "      <td>Viande de Volailles</td>\n",
       "      <td>2017.0</td>\n",
       "      <td>1.97</td>\n",
       "      <td>2.0</td>\n",
       "      <td>275.0</td>\n",
       "      <td>277.0</td>\n",
       "      <td>264.0</td>\n",
       "      <td>41389189.0</td>\n",
       "      <td>1.700970e+05</td>\n",
       "    </tr>\n",
       "    <tr>\n",
       "      <th>4</th>\n",
       "      <td>Allemagne</td>\n",
       "      <td>Viande de Volailles</td>\n",
       "      <td>2017.0</td>\n",
       "      <td>7.96</td>\n",
       "      <td>842.0</td>\n",
       "      <td>1514.0</td>\n",
       "      <td>1739.0</td>\n",
       "      <td>1609.0</td>\n",
       "      <td>82658409.0</td>\n",
       "      <td>3.690849e+06</td>\n",
       "    </tr>\n",
       "  </tbody>\n",
       "</table>\n",
       "</div>"
      ],
      "text/plain": [
       "             Pays              Produit   Année  \\\n",
       "0     Afghanistan  Viande de Volailles  2017.0   \n",
       "1  Afrique du Sud  Viande de Volailles  2017.0   \n",
       "2         Albanie  Viande de Volailles  2017.0   \n",
       "3         Algérie  Viande de Volailles  2017.0   \n",
       "4       Allemagne  Viande de Volailles  2017.0   \n",
       "\n",
       "   Disponibilité de protéines en quantité (g/personne/jour)  \\\n",
       "0                                               0.54          \n",
       "1                                              14.11          \n",
       "2                                               6.26          \n",
       "3                                               1.97          \n",
       "4                                               7.96          \n",
       "\n",
       "   Importations - Quantité  Production  Disponibilité intérieure  Nourriture  \\\n",
       "0                     29.0        28.0                      57.0        55.0   \n",
       "1                    514.0      1667.0                    2118.0      2035.0   \n",
       "2                     38.0        13.0                      47.0        47.0   \n",
       "3                      2.0       275.0                     277.0       264.0   \n",
       "4                    842.0      1514.0                    1739.0      1609.0   \n",
       "\n",
       "   Population  Produit intérieur brut en dollars  \n",
       "0  36296113.0                       1.889635e+04  \n",
       "1  57009756.0                       3.490067e+05  \n",
       "2   2884169.0                       1.301973e+04  \n",
       "3  41389189.0                       1.700970e+05  \n",
       "4  82658409.0                       3.690849e+06  "
      ]
     },
     "execution_count": 189,
     "metadata": {},
     "output_type": "execute_result"
    }
   ],
   "source": [
    "final_df.head()"
   ]
  },
  {
   "attachments": {},
   "cell_type": "markdown",
   "metadata": {},
   "source": [
    "Quelles sont les dimensions de la table ?"
   ]
  },
  {
   "cell_type": "code",
   "execution_count": 190,
   "metadata": {},
   "outputs": [
    {
     "data": {
      "text/plain": [
       "(212, 10)"
      ]
     },
     "execution_count": 190,
     "metadata": {},
     "output_type": "execute_result"
    }
   ],
   "source": [
    "final_df.shape"
   ]
  },
  {
   "attachments": {},
   "cell_type": "markdown",
   "metadata": {},
   "source": [
    "Indications générales sur la table : "
   ]
  },
  {
   "cell_type": "code",
   "execution_count": 191,
   "metadata": {},
   "outputs": [
    {
     "name": "stdout",
     "output_type": "stream",
     "text": [
      "<class 'pandas.core.frame.DataFrame'>\n",
      "Int64Index: 212 entries, 0 to 211\n",
      "Data columns (total 10 columns):\n",
      " #   Column                                                    Non-Null Count  Dtype  \n",
      "---  ------                                                    --------------  -----  \n",
      " 0   Pays                                                      212 non-null    object \n",
      " 1   Produit                                                   172 non-null    object \n",
      " 2   Année                                                     172 non-null    float64\n",
      " 3   Disponibilité de protéines en quantité (g/personne/jour)  172 non-null    float64\n",
      " 4   Importations - Quantité                                   170 non-null    float64\n",
      " 5   Production                                                168 non-null    float64\n",
      " 6   Disponibilité intérieure                                  170 non-null    float64\n",
      " 7   Nourriture                                                170 non-null    float64\n",
      " 8   Population                                                172 non-null    float64\n",
      " 9   Produit intérieur brut en dollars                         212 non-null    float64\n",
      "dtypes: float64(8), object(2)\n",
      "memory usage: 18.2+ KB\n"
     ]
    }
   ],
   "source": [
    "final_df.info()"
   ]
  },
  {
   "attachments": {},
   "cell_type": "markdown",
   "metadata": {},
   "source": [
    "Quel est le pourcentage de valeur manquante par colonne ?"
   ]
  },
  {
   "cell_type": "code",
   "execution_count": 192,
   "metadata": {},
   "outputs": [
    {
     "data": {
      "text/plain": [
       "Pays                                                        0.000000\n",
       "Produit                                                     0.188679\n",
       "Année                                                       0.188679\n",
       "Disponibilité de protéines en quantité (g/personne/jour)    0.188679\n",
       "Importations - Quantité                                     0.198113\n",
       "Production                                                  0.207547\n",
       "Disponibilité intérieure                                    0.198113\n",
       "Nourriture                                                  0.198113\n",
       "Population                                                  0.188679\n",
       "Produit intérieur brut en dollars                           0.000000\n",
       "dtype: float64"
      ]
     },
     "execution_count": 192,
     "metadata": {},
     "output_type": "execute_result"
    }
   ],
   "source": [
    "final_df.isna().mean()"
   ]
  },
  {
   "attachments": {},
   "cell_type": "markdown",
   "metadata": {},
   "source": [
    "Quel est le nombre total de lignes dupliquée ?"
   ]
  },
  {
   "cell_type": "code",
   "execution_count": 193,
   "metadata": {},
   "outputs": [
    {
     "data": {
      "text/plain": [
       "0"
      ]
     },
     "execution_count": 193,
     "metadata": {},
     "output_type": "execute_result"
    }
   ],
   "source": [
    "final_df.duplicated().sum()"
   ]
  },
  {
   "attachments": {},
   "cell_type": "markdown",
   "metadata": {},
   "source": [
    "Quel est le nombre de valeurs différentes par colonne ?"
   ]
  },
  {
   "cell_type": "code",
   "execution_count": 194,
   "metadata": {},
   "outputs": [
    {
     "data": {
      "text/plain": [
       "Pays                                                        212\n",
       "Produit                                                       1\n",
       "Année                                                         1\n",
       "Disponibilité de protéines en quantité (g/personne/jour)    164\n",
       "Importations - Quantité                                      84\n",
       "Production                                                  125\n",
       "Disponibilité intérieure                                    135\n",
       "Nourriture                                                  130\n",
       "Population                                                  172\n",
       "Produit intérieur brut en dollars                           212\n",
       "dtype: int64"
      ]
     },
     "execution_count": 194,
     "metadata": {},
     "output_type": "execute_result"
    }
   ],
   "source": [
    "final_df.nunique()"
   ]
  },
  {
   "attachments": {},
   "cell_type": "markdown",
   "metadata": {},
   "source": [
    "# 8. Nettoyage des données manquantes\n",
    "\n",
    "Pour les données manquantes, nous allons supprimer les lignes où les données sont manquantes :"
   ]
  },
  {
   "cell_type": "code",
   "execution_count": 195,
   "metadata": {},
   "outputs": [
    {
     "data": {
      "text/plain": [
       "(44, 10)"
      ]
     },
     "metadata": {},
     "output_type": "display_data"
    },
    {
     "data": {
      "text/plain": [
       "(168, 10)"
      ]
     },
     "metadata": {},
     "output_type": "display_data"
    }
   ],
   "source": [
    "columns = final_df.columns\n",
    "unfill_df = pd.DataFrame(columns= columns)\n",
    "\n",
    "for x in columns:\n",
    "    unfill = final_df[final_df[x].isna()]\n",
    "    unfill_df = pd.concat([unfill_df,unfill])\n",
    "\n",
    "unfill_df = unfill_df.drop_duplicates()\n",
    "\n",
    "display(unfill_df.shape)\n",
    "\n",
    "for x in columns:\n",
    "    final_df = final_df[final_df[x].notna()]\n",
    "\n",
    "display(final_df.shape)\n",
    "\n",
    "final_df['Produit intérieur brut en dollars'] = final_df['Produit intérieur brut en dollars']*pow(10,6)/final_df.Population\n",
    "final_df = final_df.rename(columns={'Produit intérieur brut en dollars' : 'Produit intérieur brut en dollars par habitant'})\n",
    "final_df['Importations - Quantité'] = final_df['Importations - Quantité']*pow(10,9)/final_df.Population\n",
    "final_df = final_df.rename(columns={'Importations - Quantité' : 'Importations - gramme par habitant'})\n",
    "final_df['Production'] = final_df['Production']*pow(10,9)/final_df.Population\n",
    "final_df = final_df.rename(columns={'Production' : 'Production gramme par habitant'})\n",
    "final_df['Disponibilité de protéines en quantité (g/personne/jour)'] = final_df['Disponibilité de protéines en quantité (g/personne/jour)']*360\n",
    "final_df = final_df.rename(columns={'Disponibilité de protéines en quantité (g/personne/jour)' : 'Disponibilité de protéines en quantité (g/personne)'})\n",
    "final_df['Disponibilité intérieure'] = final_df['Disponibilité intérieure']*pow(10,9)/final_df.Population\n",
    "final_df = final_df.rename(columns={'Disponibilité intérieure' : 'Disponibilité intérieure gramme par habitant'})\n",
    "final_df['Nourriture'] = final_df['Nourriture']*pow(10,9)/final_df.Population\n",
    "final_df = final_df.rename(columns={'Nourriture' : 'Nourriture gramme par habitant'})\n"
   ]
  },
  {
   "attachments": {},
   "cell_type": "markdown",
   "metadata": {},
   "source": [
    "# 9. Dernier nettoyage et sauvegarde de la table finale en csv"
   ]
  },
  {
   "attachments": {},
   "cell_type": "markdown",
   "metadata": {},
   "source": [
    "Affichage de la table finale"
   ]
  },
  {
   "cell_type": "code",
   "execution_count": 196,
   "metadata": {},
   "outputs": [
    {
     "data": {
      "text/html": [
       "<div>\n",
       "<style scoped>\n",
       "    .dataframe tbody tr th:only-of-type {\n",
       "        vertical-align: middle;\n",
       "    }\n",
       "\n",
       "    .dataframe tbody tr th {\n",
       "        vertical-align: top;\n",
       "    }\n",
       "\n",
       "    .dataframe thead th {\n",
       "        text-align: right;\n",
       "    }\n",
       "</style>\n",
       "<table border=\"1\" class=\"dataframe\">\n",
       "  <thead>\n",
       "    <tr style=\"text-align: right;\">\n",
       "      <th></th>\n",
       "      <th>Pays</th>\n",
       "      <th>Produit</th>\n",
       "      <th>Année</th>\n",
       "      <th>Disponibilité de protéines en quantité (g/personne)</th>\n",
       "      <th>Importations - gramme par habitant</th>\n",
       "      <th>Production gramme par habitant</th>\n",
       "      <th>Disponibilité intérieure gramme par habitant</th>\n",
       "      <th>Nourriture gramme par habitant</th>\n",
       "      <th>Population</th>\n",
       "      <th>Produit intérieur brut en dollars par habitant</th>\n",
       "    </tr>\n",
       "  </thead>\n",
       "  <tbody>\n",
       "    <tr>\n",
       "      <th>0</th>\n",
       "      <td>Afghanistan</td>\n",
       "      <td>Viande de Volailles</td>\n",
       "      <td>2017.0</td>\n",
       "      <td>194.4</td>\n",
       "      <td>798.983627</td>\n",
       "      <td>771.432467</td>\n",
       "      <td>1570.416094</td>\n",
       "      <td>1515.313775</td>\n",
       "      <td>36296113.0</td>\n",
       "      <td>520.616409</td>\n",
       "    </tr>\n",
       "    <tr>\n",
       "      <th>1</th>\n",
       "      <td>Afrique du Sud</td>\n",
       "      <td>Viande de Volailles</td>\n",
       "      <td>2017.0</td>\n",
       "      <td>5079.6</td>\n",
       "      <td>9016.000700</td>\n",
       "      <td>29240.609274</td>\n",
       "      <td>37151.535958</td>\n",
       "      <td>35695.644795</td>\n",
       "      <td>57009756.0</td>\n",
       "      <td>6121.876572</td>\n",
       "    </tr>\n",
       "    <tr>\n",
       "      <th>2</th>\n",
       "      <td>Albanie</td>\n",
       "      <td>Viande de Volailles</td>\n",
       "      <td>2017.0</td>\n",
       "      <td>2253.6</td>\n",
       "      <td>13175.372178</td>\n",
       "      <td>4507.364166</td>\n",
       "      <td>16295.855063</td>\n",
       "      <td>16295.855063</td>\n",
       "      <td>2884169.0</td>\n",
       "      <td>4514.204908</td>\n",
       "    </tr>\n",
       "    <tr>\n",
       "      <th>3</th>\n",
       "      <td>Algérie</td>\n",
       "      <td>Viande de Volailles</td>\n",
       "      <td>2017.0</td>\n",
       "      <td>709.2</td>\n",
       "      <td>48.321797</td>\n",
       "      <td>6644.247125</td>\n",
       "      <td>6692.568922</td>\n",
       "      <td>6378.477240</td>\n",
       "      <td>41389189.0</td>\n",
       "      <td>4109.696001</td>\n",
       "    </tr>\n",
       "    <tr>\n",
       "      <th>4</th>\n",
       "      <td>Allemagne</td>\n",
       "      <td>Viande de Volailles</td>\n",
       "      <td>2017.0</td>\n",
       "      <td>2865.6</td>\n",
       "      <td>10186.501412</td>\n",
       "      <td>18316.345769</td>\n",
       "      <td>21038.391871</td>\n",
       "      <td>19465.654124</td>\n",
       "      <td>82658409.0</td>\n",
       "      <td>44651.829102</td>\n",
       "    </tr>\n",
       "  </tbody>\n",
       "</table>\n",
       "</div>"
      ],
      "text/plain": [
       "             Pays              Produit   Année  \\\n",
       "0     Afghanistan  Viande de Volailles  2017.0   \n",
       "1  Afrique du Sud  Viande de Volailles  2017.0   \n",
       "2         Albanie  Viande de Volailles  2017.0   \n",
       "3         Algérie  Viande de Volailles  2017.0   \n",
       "4       Allemagne  Viande de Volailles  2017.0   \n",
       "\n",
       "   Disponibilité de protéines en quantité (g/personne)  \\\n",
       "0                                              194.4     \n",
       "1                                             5079.6     \n",
       "2                                             2253.6     \n",
       "3                                              709.2     \n",
       "4                                             2865.6     \n",
       "\n",
       "   Importations - gramme par habitant  Production gramme par habitant  \\\n",
       "0                          798.983627                      771.432467   \n",
       "1                         9016.000700                    29240.609274   \n",
       "2                        13175.372178                     4507.364166   \n",
       "3                           48.321797                     6644.247125   \n",
       "4                        10186.501412                    18316.345769   \n",
       "\n",
       "   Disponibilité intérieure gramme par habitant  \\\n",
       "0                                   1570.416094   \n",
       "1                                  37151.535958   \n",
       "2                                  16295.855063   \n",
       "3                                   6692.568922   \n",
       "4                                  21038.391871   \n",
       "\n",
       "   Nourriture gramme par habitant  Population  \\\n",
       "0                     1515.313775  36296113.0   \n",
       "1                    35695.644795  57009756.0   \n",
       "2                    16295.855063   2884169.0   \n",
       "3                     6378.477240  41389189.0   \n",
       "4                    19465.654124  82658409.0   \n",
       "\n",
       "   Produit intérieur brut en dollars par habitant  \n",
       "0                                      520.616409  \n",
       "1                                     6121.876572  \n",
       "2                                     4514.204908  \n",
       "3                                     4109.696001  \n",
       "4                                    44651.829102  "
      ]
     },
     "execution_count": 196,
     "metadata": {},
     "output_type": "execute_result"
    }
   ],
   "source": [
    "final_df.head()"
   ]
  },
  {
   "attachments": {},
   "cell_type": "markdown",
   "metadata": {},
   "source": [
    "Suppression de la colonne Année : "
   ]
  },
  {
   "cell_type": "code",
   "execution_count": 197,
   "metadata": {},
   "outputs": [],
   "source": [
    "final_df = final_df.drop(columns = ['Année','Produit','Population'])"
   ]
  },
  {
   "attachments": {},
   "cell_type": "markdown",
   "metadata": {},
   "source": [
    "Affichage du nouveau tableau"
   ]
  },
  {
   "cell_type": "code",
   "execution_count": 198,
   "metadata": {},
   "outputs": [
    {
     "data": {
      "text/html": [
       "<div>\n",
       "<style scoped>\n",
       "    .dataframe tbody tr th:only-of-type {\n",
       "        vertical-align: middle;\n",
       "    }\n",
       "\n",
       "    .dataframe tbody tr th {\n",
       "        vertical-align: top;\n",
       "    }\n",
       "\n",
       "    .dataframe thead th {\n",
       "        text-align: right;\n",
       "    }\n",
       "</style>\n",
       "<table border=\"1\" class=\"dataframe\">\n",
       "  <thead>\n",
       "    <tr style=\"text-align: right;\">\n",
       "      <th></th>\n",
       "      <th>Pays</th>\n",
       "      <th>Disponibilité de protéines en quantité (g/personne)</th>\n",
       "      <th>Importations - gramme par habitant</th>\n",
       "      <th>Production gramme par habitant</th>\n",
       "      <th>Disponibilité intérieure gramme par habitant</th>\n",
       "      <th>Nourriture gramme par habitant</th>\n",
       "      <th>Produit intérieur brut en dollars par habitant</th>\n",
       "    </tr>\n",
       "  </thead>\n",
       "  <tbody>\n",
       "    <tr>\n",
       "      <th>0</th>\n",
       "      <td>Afghanistan</td>\n",
       "      <td>194.4</td>\n",
       "      <td>798.983627</td>\n",
       "      <td>771.432467</td>\n",
       "      <td>1570.416094</td>\n",
       "      <td>1515.313775</td>\n",
       "      <td>520.616409</td>\n",
       "    </tr>\n",
       "    <tr>\n",
       "      <th>1</th>\n",
       "      <td>Afrique du Sud</td>\n",
       "      <td>5079.6</td>\n",
       "      <td>9016.000700</td>\n",
       "      <td>29240.609274</td>\n",
       "      <td>37151.535958</td>\n",
       "      <td>35695.644795</td>\n",
       "      <td>6121.876572</td>\n",
       "    </tr>\n",
       "    <tr>\n",
       "      <th>2</th>\n",
       "      <td>Albanie</td>\n",
       "      <td>2253.6</td>\n",
       "      <td>13175.372178</td>\n",
       "      <td>4507.364166</td>\n",
       "      <td>16295.855063</td>\n",
       "      <td>16295.855063</td>\n",
       "      <td>4514.204908</td>\n",
       "    </tr>\n",
       "    <tr>\n",
       "      <th>3</th>\n",
       "      <td>Algérie</td>\n",
       "      <td>709.2</td>\n",
       "      <td>48.321797</td>\n",
       "      <td>6644.247125</td>\n",
       "      <td>6692.568922</td>\n",
       "      <td>6378.477240</td>\n",
       "      <td>4109.696001</td>\n",
       "    </tr>\n",
       "    <tr>\n",
       "      <th>4</th>\n",
       "      <td>Allemagne</td>\n",
       "      <td>2865.6</td>\n",
       "      <td>10186.501412</td>\n",
       "      <td>18316.345769</td>\n",
       "      <td>21038.391871</td>\n",
       "      <td>19465.654124</td>\n",
       "      <td>44651.829102</td>\n",
       "    </tr>\n",
       "  </tbody>\n",
       "</table>\n",
       "</div>"
      ],
      "text/plain": [
       "             Pays  Disponibilité de protéines en quantité (g/personne)  \\\n",
       "0     Afghanistan                                              194.4     \n",
       "1  Afrique du Sud                                             5079.6     \n",
       "2         Albanie                                             2253.6     \n",
       "3         Algérie                                              709.2     \n",
       "4       Allemagne                                             2865.6     \n",
       "\n",
       "   Importations - gramme par habitant  Production gramme par habitant  \\\n",
       "0                          798.983627                      771.432467   \n",
       "1                         9016.000700                    29240.609274   \n",
       "2                        13175.372178                     4507.364166   \n",
       "3                           48.321797                     6644.247125   \n",
       "4                        10186.501412                    18316.345769   \n",
       "\n",
       "   Disponibilité intérieure gramme par habitant  \\\n",
       "0                                   1570.416094   \n",
       "1                                  37151.535958   \n",
       "2                                  16295.855063   \n",
       "3                                   6692.568922   \n",
       "4                                  21038.391871   \n",
       "\n",
       "   Nourriture gramme par habitant  \\\n",
       "0                     1515.313775   \n",
       "1                    35695.644795   \n",
       "2                    16295.855063   \n",
       "3                     6378.477240   \n",
       "4                    19465.654124   \n",
       "\n",
       "   Produit intérieur brut en dollars par habitant  \n",
       "0                                      520.616409  \n",
       "1                                     6121.876572  \n",
       "2                                     4514.204908  \n",
       "3                                     4109.696001  \n",
       "4                                    44651.829102  "
      ]
     },
     "execution_count": 198,
     "metadata": {},
     "output_type": "execute_result"
    }
   ],
   "source": [
    "final_df.head()"
   ]
  },
  {
   "attachments": {},
   "cell_type": "markdown",
   "metadata": {},
   "source": [
    "Sauvegarde du fichier"
   ]
  },
  {
   "cell_type": "code",
   "execution_count": 199,
   "metadata": {},
   "outputs": [],
   "source": [
    "final_df.to_csv(data_set_path + 'final-file.csv',index = False, encoding= 'utf-16-le')"
   ]
  }
 ],
 "metadata": {
  "kernelspec": {
   "display_name": "Python 3.10.0 ('.venv': poetry)",
   "language": "python",
   "name": "python3"
  },
  "language_info": {
   "codemirror_mode": {
    "name": "ipython",
    "version": 3
   },
   "file_extension": ".py",
   "mimetype": "text/x-python",
   "name": "python",
   "nbconvert_exporter": "python",
   "pygments_lexer": "ipython3",
   "version": "3.10.0 (default, Nov 25 2022, 18:00:40) [GCC 11.3.0]"
  },
  "orig_nbformat": 4,
  "vscode": {
   "interpreter": {
    "hash": "365c2d804c02730ade03b85b4712b62402091f719b9e8bdcd944f8bc5b10b5e1"
   }
  }
 },
 "nbformat": 4,
 "nbformat_minor": 2
}
